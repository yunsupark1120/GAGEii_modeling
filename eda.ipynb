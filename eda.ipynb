{
 "cells": [
  {
   "cell_type": "markdown",
   "metadata": {},
   "source": [
    "# GAGE II Modeling - EDA\n",
    "\n",
    "-------------------\n",
    "### Author: Yunsu Park\n",
    "### Date: 2025-01-25\n",
    "---------------------\n",
    "\n",
    "This notebook explores the GAGE II dataset"
   ]
  },
  {
   "cell_type": "markdown",
   "metadata": {},
   "source": [
    "## Helper Functions"
   ]
  },
  {
   "cell_type": "code",
   "execution_count": 23,
   "metadata": {},
   "outputs": [],
   "source": [
    "import os\n",
    "import pandas as pd\n",
    "\n",
    "def get_file_names(folder_path: str) -> list:\n",
    "    \"\"\"\n",
    "    Get all file names in a folder\n",
    "    \"\"\"\n",
    "    return os.listdir(folder_path)\n",
    "\n",
    "def get_data_coverage(file_name: str, col_name: str = \"discharge\") -> float:\n",
    "    \"\"\"\n",
    "    Get the discharge coverage from the file name\n",
    "    \"\"\"\n",
    "    \n",
    "    data: pd.DataFrame = pd.read_csv(file_name)\n",
    "    \n",
    "    num_rows: int = data.shape[0]\n",
    "    num_missing_discharge: int = data[col_name].isnull().sum()\n",
    "    \n",
    "    return 1 - num_missing_discharge / num_rows\n",
    "\n",
    "def get_column_values(file_name: str, col_name = \"discharge\") -> pd.Series:\n",
    "    \"\"\"\n",
    "    Get the discharge values from the file name\n",
    "    \"\"\"\n",
    "    \n",
    "    data: pd.DataFrame = pd.read_csv(file_name)\n",
    "    data = data.dropna(subset=[col_name])\n",
    "    \n",
    "    \n",
    "    return data[col_name]\n",
    "\n",
    "def basin_id_to_key(basins_file: list) -> dict:\n",
    "    \"\"\"\n",
    "    Convert the basin id to a key\n",
    "    \"\"\"\n",
    "    \n",
    "    key: dict = {}\n",
    "    \n",
    "    for i, basin_id in enumerate(basins_file):\n",
    "        if basin_id.endswith('.csv'):\n",
    "            basin_id = basin_id[:-4]\n",
    "        key[basin_id] = i\n",
    "    \n",
    "    return key"
   ]
  },
  {
   "cell_type": "markdown",
   "metadata": {},
   "source": [
    "# US Basins\n",
    "\n",
    "## 1. Discharge Data Coverage\n",
    "\n",
    "This section examines the coverage of discharge data in the US GAGE II dataset.\n"
   ]
  },
  {
   "cell_type": "code",
   "execution_count": 13,
   "metadata": {},
   "outputs": [
    {
     "name": "stderr",
     "output_type": "stream",
     "text": [
      "100%|██████████| 399/399 [00:07<00:00, 55.14it/s]\n"
     ]
    }
   ],
   "source": [
    "from tqdm import tqdm\n",
    "import matplotlib.pyplot as plt\n",
    "\n",
    "# Get the file names\n",
    "folder_path: str = \"US_climate_discharge_data\"\n",
    "file_names: list = get_file_names(folder_path)\n",
    "\n",
    "# Get the basin id to key\n",
    "basins_dict: dict = basin_id_to_key(file_names)\n",
    "\n",
    "# Get the discharge coverage\n",
    "for file_name in tqdm(file_names):\n",
    "    discharge_coverage: float = get_data_coverage(folder_path + '/' + file_name)\n",
    "    \n",
    "    key_index = file_name[:-4]\n",
    "    basins_dict[key_index] = discharge_coverage\n"
   ]
  },
  {
   "cell_type": "code",
   "execution_count": 21,
   "metadata": {},
   "outputs": [
    {
     "name": "stdout",
     "output_type": "stream",
     "text": [
      "       discharge_coverage\n",
      "count          399.000000\n",
      "mean             0.695736\n",
      "std              0.322892\n",
      "min              0.000187\n",
      "25%              0.426090\n",
      "50%              0.789726\n",
      "75%              1.000000\n",
      "max              1.000000\n"
     ]
    },
    {
     "data": {
      "image/png": "[encoded data removed]",
      "text/plain": [
       "<Figure size 640x480 with 1 Axes>"
      ]
     },
     "metadata": {},
     "output_type": "display_data"
    }
   ],
   "source": [
    "# Convert the dictionary to a dataframe\n",
    "discharge_coverage_df: pd.DataFrame = pd.DataFrame.from_dict(basins_dict, orient='index', columns=['discharge_coverage'])\n",
    "\n",
    "# Display summary statistics\n",
    "print(discharge_coverage_df.describe())\n",
    "\n",
    "# Plot the discharge coverage\n",
    "plt.hist(discharge_coverage_df['discharge_coverage'], bins=30)\n",
    "plt.xlabel('Discharge Coverage (full coverage = 1)')\n",
    "plt.ylabel('Frequency')\n",
    "plt.title('Histogram of Discharge Coverage')\n",
    "plt.show()"
   ]
  },
  {
   "cell_type": "markdown",
   "metadata": {},
   "source": [
    "### Other Columns"
   ]
  },
  {
   "cell_type": "code",
   "execution_count": 27,
   "metadata": {},
   "outputs": [
    {
     "name": "stderr",
     "output_type": "stream",
     "text": [
      "100%|██████████| 399/399 [00:07<00:00, 54.33it/s]\n"
     ]
    },
    {
     "name": "stdout",
     "output_type": "stream",
     "text": [
      "Summary statistics for discharge\n",
      "       discharge_coverage\n",
      "count          399.000000\n",
      "mean             0.695736\n",
      "std              0.322892\n",
      "min              0.000187\n",
      "25%              0.426090\n",
      "50%              0.789726\n",
      "75%              1.000000\n",
      "max              1.000000 \n",
      "\n"
     ]
    },
    {
     "name": "stderr",
     "output_type": "stream",
     "text": [
      "100%|██████████| 399/399 [00:07<00:00, 55.69it/s]\n"
     ]
    },
    {
     "name": "stdout",
     "output_type": "stream",
     "text": [
      "Summary statistics for dayl\n",
      "       dayl_coverage\n",
      "count          399.0\n",
      "mean             1.0\n",
      "std              0.0\n",
      "min              1.0\n",
      "25%              1.0\n",
      "50%              1.0\n",
      "75%              1.0\n",
      "max              1.0 \n",
      "\n"
     ]
    },
    {
     "name": "stderr",
     "output_type": "stream",
     "text": [
      "100%|██████████| 399/399 [00:06<00:00, 60.51it/s]\n"
     ]
    },
    {
     "name": "stdout",
     "output_type": "stream",
     "text": [
      "Summary statistics for prcp\n",
      "       prcp_coverage\n",
      "count          399.0\n",
      "mean             1.0\n",
      "std              0.0\n",
      "min              1.0\n",
      "25%              1.0\n",
      "50%              1.0\n",
      "75%              1.0\n",
      "max              1.0 \n",
      "\n"
     ]
    },
    {
     "name": "stderr",
     "output_type": "stream",
     "text": [
      "100%|██████████| 399/399 [00:06<00:00, 60.88it/s]\n"
     ]
    },
    {
     "name": "stdout",
     "output_type": "stream",
     "text": [
      "Summary statistics for srad\n",
      "       srad_coverage\n",
      "count          399.0\n",
      "mean             1.0\n",
      "std              0.0\n",
      "min              1.0\n",
      "25%              1.0\n",
      "50%              1.0\n",
      "75%              1.0\n",
      "max              1.0 \n",
      "\n"
     ]
    },
    {
     "name": "stderr",
     "output_type": "stream",
     "text": [
      "100%|██████████| 399/399 [00:06<00:00, 63.39it/s]\n"
     ]
    },
    {
     "name": "stdout",
     "output_type": "stream",
     "text": [
      "Summary statistics for swe\n",
      "       swe_coverage\n",
      "count         399.0\n",
      "mean            1.0\n",
      "std             0.0\n",
      "min             1.0\n",
      "25%             1.0\n",
      "50%             1.0\n",
      "75%             1.0\n",
      "max             1.0 \n",
      "\n"
     ]
    },
    {
     "name": "stderr",
     "output_type": "stream",
     "text": [
      "100%|██████████| 399/399 [00:06<00:00, 63.08it/s]\n"
     ]
    },
    {
     "name": "stdout",
     "output_type": "stream",
     "text": [
      "Summary statistics for tmax\n",
      "       tmax_coverage\n",
      "count          399.0\n",
      "mean             1.0\n",
      "std              0.0\n",
      "min              1.0\n",
      "25%              1.0\n",
      "50%              1.0\n",
      "75%              1.0\n",
      "max              1.0 \n",
      "\n"
     ]
    },
    {
     "name": "stderr",
     "output_type": "stream",
     "text": [
      "100%|██████████| 399/399 [00:06<00:00, 61.91it/s]\n"
     ]
    },
    {
     "name": "stdout",
     "output_type": "stream",
     "text": [
      "Summary statistics for tmin\n",
      "       tmin_coverage\n",
      "count          399.0\n",
      "mean             1.0\n",
      "std              0.0\n",
      "min              1.0\n",
      "25%              1.0\n",
      "50%              1.0\n",
      "75%              1.0\n",
      "max              1.0 \n",
      "\n"
     ]
    },
    {
     "name": "stderr",
     "output_type": "stream",
     "text": [
      "100%|██████████| 399/399 [00:06<00:00, 58.56it/s]"
     ]
    },
    {
     "name": "stdout",
     "output_type": "stream",
     "text": [
      "Summary statistics for vp\n",
      "       vp_coverage\n",
      "count        399.0\n",
      "mean           1.0\n",
      "std            0.0\n",
      "min            1.0\n",
      "25%            1.0\n",
      "50%            1.0\n",
      "75%            1.0\n",
      "max            1.0 \n",
      "\n"
     ]
    },
    {
     "name": "stderr",
     "output_type": "stream",
     "text": [
      "\n"
     ]
    }
   ],
   "source": [
    "col_names = [\"discharge\", \"dayl\", \"prcp\", \"srad\", \"swe\", \"tmax\", \"tmin\", \"vp\"]\n",
    "\n",
    "for col_name in col_names:\n",
    "    \n",
    "    basins_dict: dict = basin_id_to_key(file_names)\n",
    "    \n",
    "    for file_name in tqdm(file_names):\n",
    "        data_coverage: float = get_data_coverage(folder_path + '/' + file_name, col_name)\n",
    "        \n",
    "        key_index = file_name[:-4]\n",
    "        basins_dict[key_index] = data_coverage\n",
    "        \n",
    "    basins_df = pd.DataFrame.from_dict(basins_dict, orient='index', columns=[col_name + '_coverage'])\n",
    "    \n",
    "    print(f\"Summary statistics for {col_name}\")\n",
    "    print(basins_df.describe(), \"\\n\")"
   ]
  },
  {
   "cell_type": "markdown",
   "metadata": {},
   "source": [
    "## 2. Discharge Data Distribution"
   ]
  },
  {
   "cell_type": "code",
   "execution_count": 31,
   "metadata": {},
   "outputs": [
    {
     "name": "stderr",
     "output_type": "stream",
     "text": [
      "  0%|          | 0/399 [00:00<?, ?it/s]C:\\Users\\ybrot\\AppData\\Local\\Temp\\ipykernel_21612\\2414999210.py:6: FutureWarning: The behavior of array concatenation with empty entries is deprecated. In a future version, this will no longer exclude empty items when determining the result dtype. To retain the old behavior, exclude the empty entries before the concat operation.\n",
      "  discharge_values = pd.concat([discharge_values, temp_data])\n",
      "100%|██████████| 399/399 [00:10<00:00, 38.51it/s]\n"
     ]
    }
   ],
   "source": [
    "discharge_values: pd.Series = pd.Series()\n",
    "\n",
    "for file_name in tqdm(file_names):\n",
    "    temp_data: pd.Series = get_column_values(folder_path + '/' + file_name)\n",
    "    \n",
    "    discharge_values = pd.concat([discharge_values, temp_data])"
   ]
  },
  {
   "cell_type": "code",
   "execution_count": 34,
   "metadata": {},
   "outputs": [
    {
     "data": {
      "text/plain": [
       "count    4.458237e+06\n",
       "mean     5.720082e+02\n",
       "std      6.214572e+03\n",
       "min     -9.999990e+05\n",
       "25%      3.600000e+01\n",
       "50%      1.450000e+02\n",
       "75%      5.130000e+02\n",
       "max      1.130000e+05\n",
       "dtype: float64"
      ]
     },
     "execution_count": 34,
     "metadata": {},
     "output_type": "execute_result"
    }
   ],
   "source": [
    "discharge_summary_stats = discharge_values.describe()\n",
    "discharge_summary_stats"
   ]
  },
  {
   "cell_type": "code",
   "execution_count": 40,
   "metadata": {},
   "outputs": [
    {
     "data": {
      "image/png": "[encoded data removed]",
      "text/plain": [
       "<Figure size 640x480 with 1 Axes>"
      ]
     },
     "metadata": {},
     "output_type": "display_data"
    }
   ],
   "source": [
    "# Plot the discharge coverage\n",
    "import seaborn as sns\n",
    "\n",
    "sns.histplot(discharge_values, bins=30, kde=True)\n",
    "plt.xlabel('Value')\n",
    "plt.ylabel('Frequency')\n",
    "plt.title('Distribution of Series')\n",
    "plt.show()"
   ]
  },
  {
   "cell_type": "markdown",
   "metadata": {},
   "source": [
    "# Canada Basins\n",
    "\n",
    "Repeat the same analysis for Canadian basins.\n",
    "\n",
    "## 1. Discharge Data Coverage"
   ]
  },
  {
   "cell_type": "code",
   "execution_count": 41,
   "metadata": {},
   "outputs": [
    {
     "name": "stderr",
     "output_type": "stream",
     "text": [
      "100%|██████████| 40/40 [00:04<00:00,  8.63it/s]\n"
     ]
    }
   ],
   "source": [
    "# Get the file names\n",
    "folder_path: str = \"Canadian_climate_discharge_data\"\n",
    "file_names: list = get_file_names(folder_path)\n",
    "\n",
    "# Get the basin id to key\n",
    "basins_dict: dict = basin_id_to_key(file_names)\n",
    "\n",
    "# Get the discharge coverage\n",
    "for file_name in tqdm(file_names):\n",
    "    discharge_coverage: float = get_data_coverage(folder_path + '/' + file_name)\n",
    "    \n",
    "    key_index = file_name[:-4]\n",
    "    basins_dict[key_index] = discharge_coverage\n"
   ]
  },
  {
   "cell_type": "code",
   "execution_count": 42,
   "metadata": {},
   "outputs": [
    {
     "name": "stdout",
     "output_type": "stream",
     "text": [
      "       discharge_coverage\n",
      "count           40.000000\n",
      "mean             0.922822\n",
      "std              0.062994\n",
      "min              0.687462\n",
      "25%              0.902340\n",
      "50%              0.933671\n",
      "75%              0.962683\n",
      "max              1.000000\n"
     ]
    },
    {
     "data": {
      "image/png": "[encoded data removed]",
      "text/plain": [
       "<Figure size 640x480 with 1 Axes>"
      ]
     },
     "metadata": {},
     "output_type": "display_data"
    }
   ],
   "source": [
    "# Convert the dictionary to a dataframe\n",
    "discharge_coverage_df: pd.DataFrame = pd.DataFrame.from_dict(basins_dict, orient='index', columns=['discharge_coverage'])\n",
    "\n",
    "# Display summary statistics\n",
    "print(discharge_coverage_df.describe())\n",
    "\n",
    "# Plot the discharge coverage\n",
    "plt.hist(discharge_coverage_df['discharge_coverage'], bins=30)\n",
    "plt.xlabel('Discharge Coverage (full coverage = 1)')\n",
    "plt.ylabel('Frequency')\n",
    "plt.title('Histogram of Discharge Coverage')\n",
    "plt.show()"
   ]
  },
  {
   "cell_type": "code",
   "execution_count": 43,
   "metadata": {},
   "outputs": [
    {
     "name": "stderr",
     "output_type": "stream",
     "text": [
      "100%|██████████| 40/40 [00:04<00:00,  9.64it/s]\n"
     ]
    },
    {
     "name": "stdout",
     "output_type": "stream",
     "text": [
      "Summary statistics for discharge\n",
      "       discharge_coverage\n",
      "count           40.000000\n",
      "mean             0.922822\n",
      "std              0.062994\n",
      "min              0.687462\n",
      "25%              0.902340\n",
      "50%              0.933671\n",
      "75%              0.962683\n",
      "max              1.000000 \n",
      "\n"
     ]
    },
    {
     "name": "stderr",
     "output_type": "stream",
     "text": [
      "100%|██████████| 40/40 [00:04<00:00,  9.44it/s]\n"
     ]
    },
    {
     "name": "stdout",
     "output_type": "stream",
     "text": [
      "Summary statistics for dayl\n",
      "       dayl_coverage\n",
      "count           40.0\n",
      "mean             1.0\n",
      "std              0.0\n",
      "min              1.0\n",
      "25%              1.0\n",
      "50%              1.0\n",
      "75%              1.0\n",
      "max              1.0 \n",
      "\n"
     ]
    },
    {
     "name": "stderr",
     "output_type": "stream",
     "text": [
      "100%|██████████| 40/40 [00:04<00:00,  9.35it/s]\n"
     ]
    },
    {
     "name": "stdout",
     "output_type": "stream",
     "text": [
      "Summary statistics for prcp\n",
      "       prcp_coverage\n",
      "count           40.0\n",
      "mean             1.0\n",
      "std              0.0\n",
      "min              1.0\n",
      "25%              1.0\n",
      "50%              1.0\n",
      "75%              1.0\n",
      "max              1.0 \n",
      "\n"
     ]
    },
    {
     "name": "stderr",
     "output_type": "stream",
     "text": [
      "100%|██████████| 40/40 [00:04<00:00,  9.66it/s]\n"
     ]
    },
    {
     "name": "stdout",
     "output_type": "stream",
     "text": [
      "Summary statistics for srad\n",
      "       srad_coverage\n",
      "count           40.0\n",
      "mean             1.0\n",
      "std              0.0\n",
      "min              1.0\n",
      "25%              1.0\n",
      "50%              1.0\n",
      "75%              1.0\n",
      "max              1.0 \n",
      "\n"
     ]
    },
    {
     "name": "stderr",
     "output_type": "stream",
     "text": [
      "100%|██████████| 40/40 [00:03<00:00, 10.73it/s]\n"
     ]
    },
    {
     "name": "stdout",
     "output_type": "stream",
     "text": [
      "Summary statistics for swe\n",
      "       swe_coverage\n",
      "count          40.0\n",
      "mean            1.0\n",
      "std             0.0\n",
      "min             1.0\n",
      "25%             1.0\n",
      "50%             1.0\n",
      "75%             1.0\n",
      "max             1.0 \n",
      "\n"
     ]
    },
    {
     "name": "stderr",
     "output_type": "stream",
     "text": [
      "100%|██████████| 40/40 [00:03<00:00, 11.13it/s]\n"
     ]
    },
    {
     "name": "stdout",
     "output_type": "stream",
     "text": [
      "Summary statistics for tmax\n",
      "       tmax_coverage\n",
      "count           40.0\n",
      "mean             1.0\n",
      "std              0.0\n",
      "min              1.0\n",
      "25%              1.0\n",
      "50%              1.0\n",
      "75%              1.0\n",
      "max              1.0 \n",
      "\n"
     ]
    },
    {
     "name": "stderr",
     "output_type": "stream",
     "text": [
      "100%|██████████| 40/40 [00:03<00:00, 11.30it/s]\n"
     ]
    },
    {
     "name": "stdout",
     "output_type": "stream",
     "text": [
      "Summary statistics for tmin\n",
      "       tmin_coverage\n",
      "count           40.0\n",
      "mean             1.0\n",
      "std              0.0\n",
      "min              1.0\n",
      "25%              1.0\n",
      "50%              1.0\n",
      "75%              1.0\n",
      "max              1.0 \n",
      "\n"
     ]
    },
    {
     "name": "stderr",
     "output_type": "stream",
     "text": [
      "100%|██████████| 40/40 [00:03<00:00, 10.31it/s]"
     ]
    },
    {
     "name": "stdout",
     "output_type": "stream",
     "text": [
      "Summary statistics for vp\n",
      "       vp_coverage\n",
      "count         40.0\n",
      "mean           1.0\n",
      "std            0.0\n",
      "min            1.0\n",
      "25%            1.0\n",
      "50%            1.0\n",
      "75%            1.0\n",
      "max            1.0 \n",
      "\n"
     ]
    },
    {
     "name": "stderr",
     "output_type": "stream",
     "text": [
      "\n"
     ]
    }
   ],
   "source": [
    "col_names = [\"discharge\", \"dayl\", \"prcp\", \"srad\", \"swe\", \"tmax\", \"tmin\", \"vp\"]\n",
    "\n",
    "for col_name in col_names:\n",
    "    \n",
    "    basins_dict: dict = basin_id_to_key(file_names)\n",
    "    \n",
    "    for file_name in tqdm(file_names):\n",
    "        data_coverage: float = get_data_coverage(folder_path + '/' + file_name, col_name)\n",
    "        \n",
    "        key_index = file_name[:-4]\n",
    "        basins_dict[key_index] = data_coverage\n",
    "        \n",
    "    basins_df = pd.DataFrame.from_dict(basins_dict, orient='index', columns=[col_name + '_coverage'])\n",
    "    \n",
    "    print(f\"Summary statistics for {col_name}\")\n",
    "    print(basins_df.describe(), \"\\n\")"
   ]
  },
  {
   "cell_type": "markdown",
   "metadata": {},
   "source": [
    "## 2. Discharge Data Distribution"
   ]
  },
  {
   "cell_type": "code",
   "execution_count": 44,
   "metadata": {},
   "outputs": [
    {
     "name": "stderr",
     "output_type": "stream",
     "text": [
      "  0%|          | 0/40 [00:00<?, ?it/s]C:\\Users\\ybrot\\AppData\\Local\\Temp\\ipykernel_21612\\2414999210.py:6: FutureWarning: The behavior of array concatenation with empty entries is deprecated. In a future version, this will no longer exclude empty items when determining the result dtype. To retain the old behavior, exclude the empty entries before the concat operation.\n",
      "  discharge_values = pd.concat([discharge_values, temp_data])\n",
      "100%|██████████| 40/40 [00:04<00:00,  9.37it/s]\n"
     ]
    }
   ],
   "source": [
    "discharge_values: pd.Series = pd.Series()\n",
    "\n",
    "for file_name in tqdm(file_names):\n",
    "    temp_data: pd.Series = get_column_values(folder_path + '/' + file_name)\n",
    "    \n",
    "    discharge_values = pd.concat([discharge_values, temp_data])"
   ]
  },
  {
   "cell_type": "code",
   "execution_count": 46,
   "metadata": {},
   "outputs": [
    {
     "data": {
      "text/plain": [
       "count    4.473397e+06\n",
       "mean     1.153141e+01\n",
       "std      3.228405e+01\n",
       "min     -8.000000e+00\n",
       "25%      4.410000e-01\n",
       "50%      1.660000e+00\n",
       "75%      7.280000e+00\n",
       "max      1.310000e+03\n",
       "dtype: float64"
      ]
     },
     "execution_count": 46,
     "metadata": {},
     "output_type": "execute_result"
    }
   ],
   "source": [
    "discharge_summary_stats = discharge_values.describe()\n",
    "discharge_summary_stats"
   ]
  },
  {
   "cell_type": "code",
   "execution_count": 45,
   "metadata": {},
   "outputs": [
    {
     "data": {
      "image/png": "[encoded data removed]",
      "text/plain": [
       "<Figure size 640x480 with 1 Axes>"
      ]
     },
     "metadata": {},
     "output_type": "display_data"
    }
   ],
   "source": [
    "# Plot the discharge coverage\n",
    "import seaborn as sns\n",
    "\n",
    "sns.histplot(discharge_values, bins=30, kde=True)\n",
    "plt.xlabel('Value')\n",
    "plt.ylabel('Frequency')\n",
    "plt.title('Distribution of Series')\n",
    "plt.show()"
   ]
  }
 ],
 "metadata": {
  "kernelspec": {
   "display_name": "Python 3",
   "language": "python",
   "name": "python3"
  },
  "language_info": {
   "codemirror_mode": {
    "name": "ipython",
    "version": 3
   },
   "file_extension": ".py",
   "mimetype": "text/x-python",
   "name": "python",
   "nbconvert_exporter": "python",
   "pygments_lexer": "ipython3",
   "version": "3.12.3"
  }
 },
 "nbformat": 4,
 "nbformat_minor": 2
}
