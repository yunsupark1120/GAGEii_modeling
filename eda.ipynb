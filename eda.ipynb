{
 "cells": [
  {
   "cell_type": "markdown",
   "metadata": {},
   "source": [
    "# GAGE II Modeling - EDA\n",
    "\n",
    "-------------------\n",
    "### Author: Yunsu Park\n",
    "### Date: 2025-01-25\n",
    "---------------------\n",
    "\n",
    "This notebook explores the GAGE II dataset"
   ]
  },
  {
   "cell_type": "markdown",
   "metadata": {},
   "source": [
    "## Helper Functions"
   ]
  },
  {
   "cell_type": "code",
   "execution_count": 16,
   "metadata": {},
   "outputs": [],
   "source": [
    "import os\n",
    "import pandas as pd\n",
    "\n",
    "def get_file_names(folder_path: str) -> list:\n",
    "    \"\"\"\n",
    "    Get all file names in a folder\n",
    "    \"\"\"\n",
    "    return os.listdir(folder_path)\n",
    "\n",
    "def get_data_coverage(file_name: str, col_name: str = \"discharge\") -> float:\n",
    "    \"\"\"\n",
    "    Get the discharge coverage from the file name\n",
    "    \"\"\"\n",
    "    \n",
    "    data: pd.DataFrame = pd.read_csv(file_name)\n",
    "    \n",
    "    num_rows: int = data.shape[0]\n",
    "    \n",
    "    if num_rows == 0:\n",
    "        return 0\n",
    "    \n",
    "    if col_name == \"discharge\":\n",
    "        data[col_name] = data[col_name].apply(lambda x: x if x >= 0 else None)\n",
    "    \n",
    "    num_missing_discharge: int = data[col_name].isnull().sum()\n",
    "    \n",
    "    return 1 - num_missing_discharge / num_rows\n",
    "\n",
    "def get_column_values(file_name: str, col_name = \"discharge\") -> pd.Series:\n",
    "    \"\"\"\n",
    "    Get the discharge values from the file name\n",
    "    \"\"\"\n",
    "    \n",
    "    data: pd.DataFrame = pd.read_csv(file_name)\n",
    "    data = data.dropna(subset=[col_name])\n",
    "    \n",
    "    \n",
    "    return data[col_name]\n",
    "\n",
    "def basin_id_to_key(basins_file: list) -> dict:\n",
    "    \"\"\"\n",
    "    Convert the basin id to a key\n",
    "    \"\"\"\n",
    "    \n",
    "    key: dict = {}\n",
    "    \n",
    "    for i, basin_id in enumerate(basins_file):\n",
    "        if basin_id.endswith('.csv'):\n",
    "            basin_id = basin_id[:-4]\n",
    "        key[basin_id] = i\n",
    "    \n",
    "    return key"
   ]
  },
  {
   "cell_type": "markdown",
   "metadata": {},
   "source": [
    "# US Basins\n",
    "\n",
    "## 1. Discharge Data Coverage\n",
    "\n",
    "This section examines the coverage of discharge data in the US GAGE II dataset.\n"
   ]
  },
  {
   "cell_type": "code",
   "execution_count": 17,
   "metadata": {},
   "outputs": [
    {
     "name": "stderr",
     "output_type": "stream",
     "text": [
      "100%|██████████| 399/399 [00:22<00:00, 17.61it/s]\n"
     ]
    }
   ],
   "source": [
    "from tqdm import tqdm\n",
    "import matplotlib.pyplot as plt\n",
    "\n",
    "# Get the file names\n",
    "US_folder_path: str = \"US_climate_discharge_data\"\n",
    "US_file_names: list = get_file_names(US_folder_path)\n",
    "\n",
    "# Get the basin id to key\n",
    "basins_dict: dict = basin_id_to_key(US_file_names)\n",
    "\n",
    "# Get the discharge coverage\n",
    "for file_name in tqdm(US_file_names):\n",
    "    discharge_coverage: float = get_data_coverage(US_folder_path + '/' + file_name)\n",
    "    \n",
    "    key_index = file_name[:-4]\n",
    "    basins_dict[key_index] = discharge_coverage\n"
   ]
  },
  {
   "cell_type": "code",
   "execution_count": 18,
   "metadata": {},
   "outputs": [
    {
     "name": "stdout",
     "output_type": "stream",
     "text": [
      "       discharge_coverage\n",
      "count          399.000000\n",
      "mean             0.695551\n",
      "std              0.322958\n",
      "min              0.000187\n",
      "25%              0.426090\n",
      "50%              0.789726\n",
      "75%              1.000000\n",
      "max              1.000000\n"
     ]
    },
    {
     "data": {
      "image/png": "[encoded data removed]",
      "text/plain": [
       "<Figure size 640x480 with 1 Axes>"
      ]
     },
     "metadata": {},
     "output_type": "display_data"
    }
   ],
   "source": [
    "# Convert the dictionary to a dataframe\n",
    "US_discharge_coverage_df: pd.DataFrame = pd.DataFrame.from_dict(basins_dict, orient='index', columns=['discharge_coverage'])\n",
    "\n",
    "# Display summary statistics\n",
    "print(US_discharge_coverage_df.describe())\n",
    "\n",
    "# Plot the discharge coverage\n",
    "plt.hist(US_discharge_coverage_df['discharge_coverage'], bins=30)\n",
    "plt.xlabel('Discharge Coverage (full coverage = 1)')\n",
    "plt.ylabel('Frequency')\n",
    "plt.title('Histogram of Discharge Coverage')\n",
    "plt.show()"
   ]
  },
  {
   "cell_type": "markdown",
   "metadata": {},
   "source": [
    "### Other Columns"
   ]
  },
  {
   "cell_type": "code",
   "execution_count": 57,
   "metadata": {},
   "outputs": [
    {
     "name": "stderr",
     "output_type": "stream",
     "text": [
      "100%|██████████| 399/399 [00:06<00:00, 59.07it/s]\n"
     ]
    },
    {
     "name": "stdout",
     "output_type": "stream",
     "text": [
      "Summary statistics for discharge\n",
      "       discharge_coverage\n",
      "count          399.000000\n",
      "mean             0.695736\n",
      "std              0.322892\n",
      "min              0.000187\n",
      "25%              0.426090\n",
      "50%              0.789726\n",
      "75%              1.000000\n",
      "max              1.000000 \n"
     ]
    },
    {
     "name": "stderr",
     "output_type": "stream",
     "text": [
      "100%|██████████| 399/399 [00:06<00:00, 64.19it/s]\n"
     ]
    },
    {
     "name": "stdout",
     "output_type": "stream",
     "text": [
      "Summary statistics for dayl\n",
      "       dayl_coverage\n",
      "count          399.0\n",
      "mean             1.0\n",
      "std              0.0\n",
      "min              1.0\n",
      "25%              1.0\n",
      "50%              1.0\n",
      "75%              1.0\n",
      "max              1.0 \n"
     ]
    },
    {
     "name": "stderr",
     "output_type": "stream",
     "text": [
      "100%|██████████| 399/399 [00:06<00:00, 66.01it/s]\n"
     ]
    },
    {
     "name": "stdout",
     "output_type": "stream",
     "text": [
      "Summary statistics for prcp\n",
      "       prcp_coverage\n",
      "count          399.0\n",
      "mean             1.0\n",
      "std              0.0\n",
      "min              1.0\n",
      "25%              1.0\n",
      "50%              1.0\n",
      "75%              1.0\n",
      "max              1.0 \n"
     ]
    },
    {
     "name": "stderr",
     "output_type": "stream",
     "text": [
      "100%|██████████| 399/399 [00:06<00:00, 66.50it/s]\n"
     ]
    },
    {
     "name": "stdout",
     "output_type": "stream",
     "text": [
      "Summary statistics for srad\n",
      "       srad_coverage\n",
      "count          399.0\n",
      "mean             1.0\n",
      "std              0.0\n",
      "min              1.0\n",
      "25%              1.0\n",
      "50%              1.0\n",
      "75%              1.0\n",
      "max              1.0 \n"
     ]
    },
    {
     "name": "stderr",
     "output_type": "stream",
     "text": [
      "100%|██████████| 399/399 [00:06<00:00, 59.40it/s]\n"
     ]
    },
    {
     "name": "stdout",
     "output_type": "stream",
     "text": [
      "Summary statistics for swe\n",
      "       swe_coverage\n",
      "count         399.0\n",
      "mean            1.0\n",
      "std             0.0\n",
      "min             1.0\n",
      "25%             1.0\n",
      "50%             1.0\n",
      "75%             1.0\n",
      "max             1.0 \n"
     ]
    },
    {
     "name": "stderr",
     "output_type": "stream",
     "text": [
      "100%|██████████| 399/399 [00:06<00:00, 60.17it/s]\n"
     ]
    },
    {
     "name": "stdout",
     "output_type": "stream",
     "text": [
      "Summary statistics for tmax\n",
      "       tmax_coverage\n",
      "count          399.0\n",
      "mean             1.0\n",
      "std              0.0\n",
      "min              1.0\n",
      "25%              1.0\n",
      "50%              1.0\n",
      "75%              1.0\n",
      "max              1.0 \n"
     ]
    },
    {
     "name": "stderr",
     "output_type": "stream",
     "text": [
      "100%|██████████| 399/399 [00:06<00:00, 59.71it/s]\n"
     ]
    },
    {
     "name": "stdout",
     "output_type": "stream",
     "text": [
      "Summary statistics for tmin\n",
      "       tmin_coverage\n",
      "count          399.0\n",
      "mean             1.0\n",
      "std              0.0\n",
      "min              1.0\n",
      "25%              1.0\n",
      "50%              1.0\n",
      "75%              1.0\n",
      "max              1.0 \n"
     ]
    },
    {
     "name": "stderr",
     "output_type": "stream",
     "text": [
      "100%|██████████| 399/399 [00:06<00:00, 63.84it/s]"
     ]
    },
    {
     "name": "stdout",
     "output_type": "stream",
     "text": [
      "Summary statistics for vp\n",
      "       vp_coverage\n",
      "count        399.0\n",
      "mean           1.0\n",
      "std            0.0\n",
      "min            1.0\n",
      "25%            1.0\n",
      "50%            1.0\n",
      "75%            1.0\n",
      "max            1.0 \n"
     ]
    },
    {
     "name": "stderr",
     "output_type": "stream",
     "text": [
      "\n"
     ]
    }
   ],
   "source": [
    "col_names = [\"discharge\", \"dayl\", \"prcp\", \"srad\", \"swe\", \"tmax\", \"tmin\", \"vp\"]\n",
    "\n",
    "for col_name in col_names:\n",
    "    \n",
    "    basins_dict: dict = basin_id_to_key(US_file_names)\n",
    "    \n",
    "    for file_name in tqdm(US_file_names):\n",
    "        data_coverage: float = get_data_coverage(US_folder_path + '/' + file_name, col_name)\n",
    "        \n",
    "        key_index = file_name[:-4]\n",
    "        basins_dict[key_index] = data_coverage\n",
    "        \n",
    "    basins_df = pd.DataFrame.from_dict(basins_dict, orient='index', columns=[col_name + '_coverage'])\n",
    "    \n",
    "    print(f\"Summary statistics for {col_name}\")\n",
    "    print(basins_df.describe(), \"\")"
   ]
  },
  {
   "cell_type": "markdown",
   "metadata": {},
   "source": [
    "## 2. Discharge Data Distribution"
   ]
  },
  {
   "cell_type": "code",
   "execution_count": 58,
   "metadata": {},
   "outputs": [
    {
     "name": "stderr",
     "output_type": "stream",
     "text": [
      "  0%|          | 0/399 [00:00<?, ?it/s]C:\\Users\\ybrot\\AppData\\Local\\Temp\\ipykernel_21612\\2163804657.py:6: FutureWarning: The behavior of array concatenation with empty entries is deprecated. In a future version, this will no longer exclude empty items when determining the result dtype. To retain the old behavior, exclude the empty entries before the concat operation.\n",
      "  US_discharge_values = pd.concat([US_discharge_values, temp_data])\n",
      "100%|██████████| 399/399 [00:10<00:00, 37.82it/s]\n"
     ]
    }
   ],
   "source": [
    "US_discharge_values: pd.Series = pd.Series()\n",
    "\n",
    "for file_name in tqdm(US_file_names):\n",
    "    temp_data: pd.Series = get_column_values(US_folder_path + '/' + file_name)\n",
    "    \n",
    "    US_discharge_values = pd.concat([US_discharge_values, temp_data])"
   ]
  },
  {
   "cell_type": "code",
   "execution_count": 59,
   "metadata": {},
   "outputs": [
    {
     "data": {
      "text/plain": [
       "count    4.458237e+06\n",
       "mean     5.720082e+02\n",
       "std      6.214572e+03\n",
       "min     -9.999990e+05\n",
       "25%      3.600000e+01\n",
       "50%      1.450000e+02\n",
       "75%      5.130000e+02\n",
       "max      1.130000e+05\n",
       "dtype: float64"
      ]
     },
     "execution_count": 59,
     "metadata": {},
     "output_type": "execute_result"
    }
   ],
   "source": [
    "discharge_summary_stats = US_discharge_values.describe()\n",
    "discharge_summary_stats"
   ]
  },
  {
   "cell_type": "code",
   "execution_count": 60,
   "metadata": {},
   "outputs": [
    {
     "data": {
      "image/png": "[encoded data removed]",
      "text/plain": [
       "<Figure size 640x480 with 1 Axes>"
      ]
     },
     "metadata": {},
     "output_type": "display_data"
    },
    {
     "data": {
      "image/png": "[encoded data removed]",
      "text/plain": [
       "<Figure size 640x480 with 1 Axes>"
      ]
     },
     "metadata": {},
     "output_type": "display_data"
    }
   ],
   "source": [
    "# Plot the discharge coverage\n",
    "import seaborn as sns\n",
    "\n",
    "# Histogram\n",
    "sns.histplot(US_discharge_values, bins=30, kde=True)\n",
    "plt.xlabel('Value')\n",
    "plt.ylabel('Frequency')\n",
    "plt.title('Distribution of Series')\n",
    "plt.show()\n",
    "\n",
    "# Boxplot\n",
    "sns.boxplot(x=US_discharge_values)\n",
    "plt.xlabel('Value')\n",
    "plt.title('Boxplot of Series')\n",
    "plt.show()"
   ]
  },
  {
   "cell_type": "markdown",
   "metadata": {},
   "source": [
    "# Canada Basins\n",
    "\n",
    "Repeat the same analysis for Canadian basins.\n",
    "\n",
    "## 1. Discharge Data Coverage"
   ]
  },
  {
   "cell_type": "code",
   "execution_count": 9,
   "metadata": {},
   "outputs": [
    {
     "name": "stderr",
     "output_type": "stream",
     "text": [
      "100%|██████████| 577/577 [00:09<00:00, 62.43it/s]\n"
     ]
    }
   ],
   "source": [
    "from tqdm import tqdm\n",
    "\n",
    "# Get the file names\n",
    "Canadian_folder_path: str = \"Canadian_climate_discharge_data\"\n",
    "Canadian_file_names: list = get_file_names(Canadian_folder_path)\n",
    "\n",
    "# Get the basin id to key\n",
    "basins_dict: dict = basin_id_to_key(Canadian_file_names)\n",
    "\n",
    "# Get the discharge coverage\n",
    "for file_name in tqdm(Canadian_file_names):\n",
    "    discharge_coverage: float = get_data_coverage(Canadian_folder_path + '/' + file_name)\n",
    "    \n",
    "    key_index = file_name[:-4]\n",
    "    basins_dict[key_index] = discharge_coverage\n"
   ]
  },
  {
   "cell_type": "code",
   "execution_count": 15,
   "metadata": {},
   "outputs": [
    {
     "name": "stdout",
     "output_type": "stream",
     "text": [
      "       discharge_coverage\n",
      "count          577.000000\n",
      "mean             0.797227\n",
      "std              0.402414\n",
      "min              0.000000\n",
      "25%              1.000000\n",
      "50%              1.000000\n",
      "75%              1.000000\n",
      "max              1.000000\n"
     ]
    },
    {
     "data": {
      "image/png": "[encoded data removed]",
      "text/plain": [
       "<Figure size 640x480 with 1 Axes>"
      ]
     },
     "metadata": {},
     "output_type": "display_data"
    }
   ],
   "source": [
    "import matplotlib.pyplot as plt\n",
    "# Convert the dictionary to a dataframe\n",
    "Canadian_discharge_coverage_df: pd.DataFrame = pd.DataFrame.from_dict(basins_dict, orient='index', columns=['discharge_coverage'])\n",
    "\n",
    "# Display summary statistics\n",
    "print(Canadian_discharge_coverage_df.describe())\n",
    "\n",
    "# Plot the discharge coverage\n",
    "plt.hist(Canadian_discharge_coverage_df['discharge_coverage'], bins=30)\n",
    "plt.xlabel('Discharge Coverage (full coverage = 1)')\n",
    "plt.ylabel('Frequency')\n",
    "plt.title('Histogram of Discharge Coverage')\n",
    "plt.show()"
   ]
  },
  {
   "cell_type": "code",
   "execution_count": 11,
   "metadata": {},
   "outputs": [
    {
     "name": "stderr",
     "output_type": "stream",
     "text": [
      "100%|██████████| 577/577 [00:09<00:00, 63.57it/s]\n"
     ]
    },
    {
     "name": "stdout",
     "output_type": "stream",
     "text": [
      "Summary statistics for discharge\n",
      "       discharge_coverage\n",
      "count          577.000000\n",
      "mean             0.739702\n",
      "std              0.394737\n",
      "min              0.000000\n",
      "25%              0.663325\n",
      "50%              0.983935\n",
      "75%              1.000000\n",
      "max              1.000000 \n",
      "\n"
     ]
    },
    {
     "name": "stderr",
     "output_type": "stream",
     "text": [
      "100%|██████████| 577/577 [00:09<00:00, 61.45it/s]\n"
     ]
    },
    {
     "name": "stdout",
     "output_type": "stream",
     "text": [
      "Summary statistics for dayl\n",
      "       dayl_coverage\n",
      "count     577.000000\n",
      "mean        0.797227\n",
      "std         0.402414\n",
      "min         0.000000\n",
      "25%         1.000000\n",
      "50%         1.000000\n",
      "75%         1.000000\n",
      "max         1.000000 \n",
      "\n"
     ]
    },
    {
     "name": "stderr",
     "output_type": "stream",
     "text": [
      "100%|██████████| 577/577 [00:09<00:00, 61.60it/s]\n"
     ]
    },
    {
     "name": "stdout",
     "output_type": "stream",
     "text": [
      "Summary statistics for prcp\n",
      "       prcp_coverage\n",
      "count     577.000000\n",
      "mean        0.797227\n",
      "std         0.402414\n",
      "min         0.000000\n",
      "25%         1.000000\n",
      "50%         1.000000\n",
      "75%         1.000000\n",
      "max         1.000000 \n",
      "\n"
     ]
    },
    {
     "name": "stderr",
     "output_type": "stream",
     "text": [
      "100%|██████████| 577/577 [00:09<00:00, 61.60it/s]\n"
     ]
    },
    {
     "name": "stdout",
     "output_type": "stream",
     "text": [
      "Summary statistics for srad\n",
      "       srad_coverage\n",
      "count     577.000000\n",
      "mean        0.797227\n",
      "std         0.402414\n",
      "min         0.000000\n",
      "25%         1.000000\n",
      "50%         1.000000\n",
      "75%         1.000000\n",
      "max         1.000000 \n",
      "\n"
     ]
    },
    {
     "name": "stderr",
     "output_type": "stream",
     "text": [
      "100%|██████████| 577/577 [00:09<00:00, 60.67it/s]\n"
     ]
    },
    {
     "name": "stdout",
     "output_type": "stream",
     "text": [
      "Summary statistics for swe\n",
      "       swe_coverage\n",
      "count    577.000000\n",
      "mean       0.797227\n",
      "std        0.402414\n",
      "min        0.000000\n",
      "25%        1.000000\n",
      "50%        1.000000\n",
      "75%        1.000000\n",
      "max        1.000000 \n",
      "\n"
     ]
    },
    {
     "name": "stderr",
     "output_type": "stream",
     "text": [
      "100%|██████████| 577/577 [00:09<00:00, 59.93it/s]\n"
     ]
    },
    {
     "name": "stdout",
     "output_type": "stream",
     "text": [
      "Summary statistics for tmax\n",
      "       tmax_coverage\n",
      "count     577.000000\n",
      "mean        0.797227\n",
      "std         0.402414\n",
      "min         0.000000\n",
      "25%         1.000000\n",
      "50%         1.000000\n",
      "75%         1.000000\n",
      "max         1.000000 \n",
      "\n"
     ]
    },
    {
     "name": "stderr",
     "output_type": "stream",
     "text": [
      "100%|██████████| 577/577 [00:14<00:00, 38.85it/s]\n"
     ]
    },
    {
     "name": "stdout",
     "output_type": "stream",
     "text": [
      "Summary statistics for tmin\n",
      "       tmin_coverage\n",
      "count     577.000000\n",
      "mean        0.797227\n",
      "std         0.402414\n",
      "min         0.000000\n",
      "25%         1.000000\n",
      "50%         1.000000\n",
      "75%         1.000000\n",
      "max         1.000000 \n",
      "\n"
     ]
    },
    {
     "name": "stderr",
     "output_type": "stream",
     "text": [
      "100%|██████████| 577/577 [00:15<00:00, 37.74it/s]"
     ]
    },
    {
     "name": "stdout",
     "output_type": "stream",
     "text": [
      "Summary statistics for vp\n",
      "       vp_coverage\n",
      "count   577.000000\n",
      "mean      0.797227\n",
      "std       0.402414\n",
      "min       0.000000\n",
      "25%       1.000000\n",
      "50%       1.000000\n",
      "75%       1.000000\n",
      "max       1.000000 \n",
      "\n"
     ]
    },
    {
     "name": "stderr",
     "output_type": "stream",
     "text": [
      "\n"
     ]
    }
   ],
   "source": [
    "col_names = [\"discharge\", \"dayl\", \"prcp\", \"srad\", \"swe\", \"tmax\", \"tmin\", \"vp\"]\n",
    "\n",
    "for col_name in col_names:\n",
    "    \n",
    "    basins_dict: dict = basin_id_to_key(Canadian_file_names)\n",
    "    \n",
    "    for file_name in tqdm(Canadian_file_names):\n",
    "        data_coverage: float = get_data_coverage(Canadian_folder_path + '/' + file_name, col_name)\n",
    "        \n",
    "        key_index = file_name[:-4]\n",
    "        basins_dict[key_index] = data_coverage\n",
    "        \n",
    "    basins_df = pd.DataFrame.from_dict(basins_dict, orient='index', columns=[col_name + '_coverage'])\n",
    "    \n",
    "    print(f\"Summary statistics for {col_name}\")\n",
    "    print(basins_df.describe(), \"\\n\")"
   ]
  },
  {
   "cell_type": "markdown",
   "metadata": {},
   "source": [
    "## 2. Discharge Data Distribution"
   ]
  },
  {
   "cell_type": "code",
   "execution_count": 12,
   "metadata": {},
   "outputs": [
    {
     "name": "stderr",
     "output_type": "stream",
     "text": [
      "  0%|          | 0/577 [00:00<?, ?it/s]C:\\Users\\ybrot\\AppData\\Local\\Temp\\ipykernel_19436\\3844740279.py:6: FutureWarning: The behavior of array concatenation with empty entries is deprecated. In a future version, this will no longer exclude empty items when determining the result dtype. To retain the old behavior, exclude the empty entries before the concat operation.\n",
      "  Canadian_discharge_values = pd.concat([Canadian_discharge_values, temp_data])\n",
      "C:\\Users\\ybrot\\AppData\\Local\\Temp\\ipykernel_19436\\3844740279.py:6: FutureWarning: The behavior of array concatenation with empty entries is deprecated. In a future version, this will no longer exclude empty items when determining the result dtype. To retain the old behavior, exclude the empty entries before the concat operation.\n",
      "  Canadian_discharge_values = pd.concat([Canadian_discharge_values, temp_data])\n",
      "C:\\Users\\ybrot\\AppData\\Local\\Temp\\ipykernel_19436\\3844740279.py:6: FutureWarning: The behavior of array concatenation with empty entries is deprecated. In a future version, this will no longer exclude empty items when determining the result dtype. To retain the old behavior, exclude the empty entries before the concat operation.\n",
      "  Canadian_discharge_values = pd.concat([Canadian_discharge_values, temp_data])\n",
      "C:\\Users\\ybrot\\AppData\\Local\\Temp\\ipykernel_19436\\3844740279.py:6: FutureWarning: The behavior of array concatenation with empty entries is deprecated. In a future version, this will no longer exclude empty items when determining the result dtype. To retain the old behavior, exclude the empty entries before the concat operation.\n",
      "  Canadian_discharge_values = pd.concat([Canadian_discharge_values, temp_data])\n",
      "C:\\Users\\ybrot\\AppData\\Local\\Temp\\ipykernel_19436\\3844740279.py:6: FutureWarning: The behavior of array concatenation with empty entries is deprecated. In a future version, this will no longer exclude empty items when determining the result dtype. To retain the old behavior, exclude the empty entries before the concat operation.\n",
      "  Canadian_discharge_values = pd.concat([Canadian_discharge_values, temp_data])\n",
      "  1%|          | 7/577 [00:00<00:11, 50.59it/s]C:\\Users\\ybrot\\AppData\\Local\\Temp\\ipykernel_19436\\3844740279.py:6: FutureWarning: The behavior of array concatenation with empty entries is deprecated. In a future version, this will no longer exclude empty items when determining the result dtype. To retain the old behavior, exclude the empty entries before the concat operation.\n",
      "  Canadian_discharge_values = pd.concat([Canadian_discharge_values, temp_data])\n",
      "  6%|▌         | 36/577 [00:01<00:19, 28.02it/s]C:\\Users\\ybrot\\AppData\\Local\\Temp\\ipykernel_19436\\3844740279.py:6: FutureWarning: The behavior of array concatenation with empty entries is deprecated. In a future version, this will no longer exclude empty items when determining the result dtype. To retain the old behavior, exclude the empty entries before the concat operation.\n",
      "  Canadian_discharge_values = pd.concat([Canadian_discharge_values, temp_data])\n",
      "C:\\Users\\ybrot\\AppData\\Local\\Temp\\ipykernel_19436\\3844740279.py:6: FutureWarning: The behavior of array concatenation with empty entries is deprecated. In a future version, this will no longer exclude empty items when determining the result dtype. To retain the old behavior, exclude the empty entries before the concat operation.\n",
      "  Canadian_discharge_values = pd.concat([Canadian_discharge_values, temp_data])\n",
      "  7%|▋         | 40/577 [00:01<00:17, 29.85it/s]C:\\Users\\ybrot\\AppData\\Local\\Temp\\ipykernel_19436\\3844740279.py:6: FutureWarning: The behavior of array concatenation with empty entries is deprecated. In a future version, this will no longer exclude empty items when determining the result dtype. To retain the old behavior, exclude the empty entries before the concat operation.\n",
      "  Canadian_discharge_values = pd.concat([Canadian_discharge_values, temp_data])\n",
      "  8%|▊         | 45/577 [00:01<00:16, 32.87it/s]C:\\Users\\ybrot\\AppData\\Local\\Temp\\ipykernel_19436\\3844740279.py:6: FutureWarning: The behavior of array concatenation with empty entries is deprecated. In a future version, this will no longer exclude empty items when determining the result dtype. To retain the old behavior, exclude the empty entries before the concat operation.\n",
      "  Canadian_discharge_values = pd.concat([Canadian_discharge_values, temp_data])\n",
      "  9%|▊         | 50/577 [00:01<00:15, 34.28it/s]C:\\Users\\ybrot\\AppData\\Local\\Temp\\ipykernel_19436\\3844740279.py:6: FutureWarning: The behavior of array concatenation with empty entries is deprecated. In a future version, this will no longer exclude empty items when determining the result dtype. To retain the old behavior, exclude the empty entries before the concat operation.\n",
      "  Canadian_discharge_values = pd.concat([Canadian_discharge_values, temp_data])\n",
      " 11%|█         | 61/577 [00:01<00:18, 28.45it/s]C:\\Users\\ybrot\\AppData\\Local\\Temp\\ipykernel_19436\\3844740279.py:6: FutureWarning: The behavior of array concatenation with empty entries is deprecated. In a future version, this will no longer exclude empty items when determining the result dtype. To retain the old behavior, exclude the empty entries before the concat operation.\n",
      "  Canadian_discharge_values = pd.concat([Canadian_discharge_values, temp_data])\n",
      "C:\\Users\\ybrot\\AppData\\Local\\Temp\\ipykernel_19436\\3844740279.py:6: FutureWarning: The behavior of array concatenation with empty entries is deprecated. In a future version, this will no longer exclude empty items when determining the result dtype. To retain the old behavior, exclude the empty entries before the concat operation.\n",
      "  Canadian_discharge_values = pd.concat([Canadian_discharge_values, temp_data])\n",
      "C:\\Users\\ybrot\\AppData\\Local\\Temp\\ipykernel_19436\\3844740279.py:6: FutureWarning: The behavior of array concatenation with empty entries is deprecated. In a future version, this will no longer exclude empty items when determining the result dtype. To retain the old behavior, exclude the empty entries before the concat operation.\n",
      "  Canadian_discharge_values = pd.concat([Canadian_discharge_values, temp_data])\n",
      "C:\\Users\\ybrot\\AppData\\Local\\Temp\\ipykernel_19436\\3844740279.py:6: FutureWarning: The behavior of array concatenation with empty entries is deprecated. In a future version, this will no longer exclude empty items when determining the result dtype. To retain the old behavior, exclude the empty entries before the concat operation.\n",
      "  Canadian_discharge_values = pd.concat([Canadian_discharge_values, temp_data])\n",
      " 12%|█▏        | 67/577 [00:02<00:15, 31.88it/s]C:\\Users\\ybrot\\AppData\\Local\\Temp\\ipykernel_19436\\3844740279.py:6: FutureWarning: The behavior of array concatenation with empty entries is deprecated. In a future version, this will no longer exclude empty items when determining the result dtype. To retain the old behavior, exclude the empty entries before the concat operation.\n",
      "  Canadian_discharge_values = pd.concat([Canadian_discharge_values, temp_data])\n",
      " 14%|█▎        | 79/577 [00:02<00:16, 29.78it/s]C:\\Users\\ybrot\\AppData\\Local\\Temp\\ipykernel_19436\\3844740279.py:6: FutureWarning: The behavior of array concatenation with empty entries is deprecated. In a future version, this will no longer exclude empty items when determining the result dtype. To retain the old behavior, exclude the empty entries before the concat operation.\n",
      "  Canadian_discharge_values = pd.concat([Canadian_discharge_values, temp_data])\n",
      " 14%|█▍        | 83/577 [00:02<00:16, 29.61it/s]C:\\Users\\ybrot\\AppData\\Local\\Temp\\ipykernel_19436\\3844740279.py:6: FutureWarning: The behavior of array concatenation with empty entries is deprecated. In a future version, this will no longer exclude empty items when determining the result dtype. To retain the old behavior, exclude the empty entries before the concat operation.\n",
      "  Canadian_discharge_values = pd.concat([Canadian_discharge_values, temp_data])\n",
      "C:\\Users\\ybrot\\AppData\\Local\\Temp\\ipykernel_19436\\3844740279.py:6: FutureWarning: The behavior of array concatenation with empty entries is deprecated. In a future version, this will no longer exclude empty items when determining the result dtype. To retain the old behavior, exclude the empty entries before the concat operation.\n",
      "  Canadian_discharge_values = pd.concat([Canadian_discharge_values, temp_data])\n",
      "C:\\Users\\ybrot\\AppData\\Local\\Temp\\ipykernel_19436\\3844740279.py:6: FutureWarning: The behavior of array concatenation with empty entries is deprecated. In a future version, this will no longer exclude empty items when determining the result dtype. To retain the old behavior, exclude the empty entries before the concat operation.\n",
      "  Canadian_discharge_values = pd.concat([Canadian_discharge_values, temp_data])\n",
      " 16%|█▋        | 95/577 [00:03<00:19, 24.69it/s]C:\\Users\\ybrot\\AppData\\Local\\Temp\\ipykernel_19436\\3844740279.py:6: FutureWarning: The behavior of array concatenation with empty entries is deprecated. In a future version, this will no longer exclude empty items when determining the result dtype. To retain the old behavior, exclude the empty entries before the concat operation.\n",
      "  Canadian_discharge_values = pd.concat([Canadian_discharge_values, temp_data])\n",
      "C:\\Users\\ybrot\\AppData\\Local\\Temp\\ipykernel_19436\\3844740279.py:6: FutureWarning: The behavior of array concatenation with empty entries is deprecated. In a future version, this will no longer exclude empty items when determining the result dtype. To retain the old behavior, exclude the empty entries before the concat operation.\n",
      "  Canadian_discharge_values = pd.concat([Canadian_discharge_values, temp_data])\n",
      " 17%|█▋        | 99/577 [00:03<00:17, 27.54it/s]C:\\Users\\ybrot\\AppData\\Local\\Temp\\ipykernel_19436\\3844740279.py:6: FutureWarning: The behavior of array concatenation with empty entries is deprecated. In a future version, this will no longer exclude empty items when determining the result dtype. To retain the old behavior, exclude the empty entries before the concat operation.\n",
      "  Canadian_discharge_values = pd.concat([Canadian_discharge_values, temp_data])\n",
      "C:\\Users\\ybrot\\AppData\\Local\\Temp\\ipykernel_19436\\3844740279.py:6: FutureWarning: The behavior of array concatenation with empty entries is deprecated. In a future version, this will no longer exclude empty items when determining the result dtype. To retain the old behavior, exclude the empty entries before the concat operation.\n",
      "  Canadian_discharge_values = pd.concat([Canadian_discharge_values, temp_data])\n",
      "C:\\Users\\ybrot\\AppData\\Local\\Temp\\ipykernel_19436\\3844740279.py:6: FutureWarning: The behavior of array concatenation with empty entries is deprecated. In a future version, this will no longer exclude empty items when determining the result dtype. To retain the old behavior, exclude the empty entries before the concat operation.\n",
      "  Canadian_discharge_values = pd.concat([Canadian_discharge_values, temp_data])\n",
      "C:\\Users\\ybrot\\AppData\\Local\\Temp\\ipykernel_19436\\3844740279.py:6: FutureWarning: The behavior of array concatenation with empty entries is deprecated. In a future version, this will no longer exclude empty items when determining the result dtype. To retain the old behavior, exclude the empty entries before the concat operation.\n",
      "  Canadian_discharge_values = pd.concat([Canadian_discharge_values, temp_data])\n",
      "C:\\Users\\ybrot\\AppData\\Local\\Temp\\ipykernel_19436\\3844740279.py:6: FutureWarning: The behavior of array concatenation with empty entries is deprecated. In a future version, this will no longer exclude empty items when determining the result dtype. To retain the old behavior, exclude the empty entries before the concat operation.\n",
      "  Canadian_discharge_values = pd.concat([Canadian_discharge_values, temp_data])\n",
      " 18%|█▊        | 106/577 [00:03<00:13, 34.80it/s]C:\\Users\\ybrot\\AppData\\Local\\Temp\\ipykernel_19436\\3844740279.py:6: FutureWarning: The behavior of array concatenation with empty entries is deprecated. In a future version, this will no longer exclude empty items when determining the result dtype. To retain the old behavior, exclude the empty entries before the concat operation.\n",
      "  Canadian_discharge_values = pd.concat([Canadian_discharge_values, temp_data])\n",
      " 19%|█▉        | 110/577 [00:03<00:12, 35.98it/s]C:\\Users\\ybrot\\AppData\\Local\\Temp\\ipykernel_19436\\3844740279.py:6: FutureWarning: The behavior of array concatenation with empty entries is deprecated. In a future version, this will no longer exclude empty items when determining the result dtype. To retain the old behavior, exclude the empty entries before the concat operation.\n",
      "  Canadian_discharge_values = pd.concat([Canadian_discharge_values, temp_data])\n",
      "C:\\Users\\ybrot\\AppData\\Local\\Temp\\ipykernel_19436\\3844740279.py:6: FutureWarning: The behavior of array concatenation with empty entries is deprecated. In a future version, this will no longer exclude empty items when determining the result dtype. To retain the old behavior, exclude the empty entries before the concat operation.\n",
      "  Canadian_discharge_values = pd.concat([Canadian_discharge_values, temp_data])\n",
      " 20%|█▉        | 114/577 [00:03<00:12, 36.39it/s]C:\\Users\\ybrot\\AppData\\Local\\Temp\\ipykernel_19436\\3844740279.py:6: FutureWarning: The behavior of array concatenation with empty entries is deprecated. In a future version, this will no longer exclude empty items when determining the result dtype. To retain the old behavior, exclude the empty entries before the concat operation.\n",
      "  Canadian_discharge_values = pd.concat([Canadian_discharge_values, temp_data])\n",
      "C:\\Users\\ybrot\\AppData\\Local\\Temp\\ipykernel_19436\\3844740279.py:6: FutureWarning: The behavior of array concatenation with empty entries is deprecated. In a future version, this will no longer exclude empty items when determining the result dtype. To retain the old behavior, exclude the empty entries before the concat operation.\n",
      "  Canadian_discharge_values = pd.concat([Canadian_discharge_values, temp_data])\n",
      " 21%|██        | 120/577 [00:03<00:12, 36.92it/s]C:\\Users\\ybrot\\AppData\\Local\\Temp\\ipykernel_19436\\3844740279.py:6: FutureWarning: The behavior of array concatenation with empty entries is deprecated. In a future version, this will no longer exclude empty items when determining the result dtype. To retain the old behavior, exclude the empty entries before the concat operation.\n",
      "  Canadian_discharge_values = pd.concat([Canadian_discharge_values, temp_data])\n",
      "C:\\Users\\ybrot\\AppData\\Local\\Temp\\ipykernel_19436\\3844740279.py:6: FutureWarning: The behavior of array concatenation with empty entries is deprecated. In a future version, this will no longer exclude empty items when determining the result dtype. To retain the old behavior, exclude the empty entries before the concat operation.\n",
      "  Canadian_discharge_values = pd.concat([Canadian_discharge_values, temp_data])\n",
      "C:\\Users\\ybrot\\AppData\\Local\\Temp\\ipykernel_19436\\3844740279.py:6: FutureWarning: The behavior of array concatenation with empty entries is deprecated. In a future version, this will no longer exclude empty items when determining the result dtype. To retain the old behavior, exclude the empty entries before the concat operation.\n",
      "  Canadian_discharge_values = pd.concat([Canadian_discharge_values, temp_data])\n",
      " 24%|██▍       | 138/577 [00:04<00:16, 27.19it/s]C:\\Users\\ybrot\\AppData\\Local\\Temp\\ipykernel_19436\\3844740279.py:6: FutureWarning: The behavior of array concatenation with empty entries is deprecated. In a future version, this will no longer exclude empty items when determining the result dtype. To retain the old behavior, exclude the empty entries before the concat operation.\n",
      "  Canadian_discharge_values = pd.concat([Canadian_discharge_values, temp_data])\n",
      " 25%|██▍       | 143/577 [00:04<00:13, 31.76it/s]C:\\Users\\ybrot\\AppData\\Local\\Temp\\ipykernel_19436\\3844740279.py:6: FutureWarning: The behavior of array concatenation with empty entries is deprecated. In a future version, this will no longer exclude empty items when determining the result dtype. To retain the old behavior, exclude the empty entries before the concat operation.\n",
      "  Canadian_discharge_values = pd.concat([Canadian_discharge_values, temp_data])\n",
      "C:\\Users\\ybrot\\AppData\\Local\\Temp\\ipykernel_19436\\3844740279.py:6: FutureWarning: The behavior of array concatenation with empty entries is deprecated. In a future version, this will no longer exclude empty items when determining the result dtype. To retain the old behavior, exclude the empty entries before the concat operation.\n",
      "  Canadian_discharge_values = pd.concat([Canadian_discharge_values, temp_data])\n",
      " 25%|██▌       | 147/577 [00:04<00:13, 32.06it/s]C:\\Users\\ybrot\\AppData\\Local\\Temp\\ipykernel_19436\\3844740279.py:6: FutureWarning: The behavior of array concatenation with empty entries is deprecated. In a future version, this will no longer exclude empty items when determining the result dtype. To retain the old behavior, exclude the empty entries before the concat operation.\n",
      "  Canadian_discharge_values = pd.concat([Canadian_discharge_values, temp_data])\n",
      "C:\\Users\\ybrot\\AppData\\Local\\Temp\\ipykernel_19436\\3844740279.py:6: FutureWarning: The behavior of array concatenation with empty entries is deprecated. In a future version, this will no longer exclude empty items when determining the result dtype. To retain the old behavior, exclude the empty entries before the concat operation.\n",
      "  Canadian_discharge_values = pd.concat([Canadian_discharge_values, temp_data])\n",
      " 26%|██▌       | 151/577 [00:04<00:13, 30.63it/s]C:\\Users\\ybrot\\AppData\\Local\\Temp\\ipykernel_19436\\3844740279.py:6: FutureWarning: The behavior of array concatenation with empty entries is deprecated. In a future version, this will no longer exclude empty items when determining the result dtype. To retain the old behavior, exclude the empty entries before the concat operation.\n",
      "  Canadian_discharge_values = pd.concat([Canadian_discharge_values, temp_data])\n",
      "C:\\Users\\ybrot\\AppData\\Local\\Temp\\ipykernel_19436\\3844740279.py:6: FutureWarning: The behavior of array concatenation with empty entries is deprecated. In a future version, this will no longer exclude empty items when determining the result dtype. To retain the old behavior, exclude the empty entries before the concat operation.\n",
      "  Canadian_discharge_values = pd.concat([Canadian_discharge_values, temp_data])\n",
      " 27%|██▋       | 155/577 [00:04<00:12, 32.60it/s]C:\\Users\\ybrot\\AppData\\Local\\Temp\\ipykernel_19436\\3844740279.py:6: FutureWarning: The behavior of array concatenation with empty entries is deprecated. In a future version, this will no longer exclude empty items when determining the result dtype. To retain the old behavior, exclude the empty entries before the concat operation.\n",
      "  Canadian_discharge_values = pd.concat([Canadian_discharge_values, temp_data])\n",
      "C:\\Users\\ybrot\\AppData\\Local\\Temp\\ipykernel_19436\\3844740279.py:6: FutureWarning: The behavior of array concatenation with empty entries is deprecated. In a future version, this will no longer exclude empty items when determining the result dtype. To retain the old behavior, exclude the empty entries before the concat operation.\n",
      "  Canadian_discharge_values = pd.concat([Canadian_discharge_values, temp_data])\n",
      " 28%|██▊       | 159/577 [00:05<00:13, 31.16it/s]C:\\Users\\ybrot\\AppData\\Local\\Temp\\ipykernel_19436\\3844740279.py:6: FutureWarning: The behavior of array concatenation with empty entries is deprecated. In a future version, this will no longer exclude empty items when determining the result dtype. To retain the old behavior, exclude the empty entries before the concat operation.\n",
      "  Canadian_discharge_values = pd.concat([Canadian_discharge_values, temp_data])\n",
      "C:\\Users\\ybrot\\AppData\\Local\\Temp\\ipykernel_19436\\3844740279.py:6: FutureWarning: The behavior of array concatenation with empty entries is deprecated. In a future version, this will no longer exclude empty items when determining the result dtype. To retain the old behavior, exclude the empty entries before the concat operation.\n",
      "  Canadian_discharge_values = pd.concat([Canadian_discharge_values, temp_data])\n",
      " 28%|██▊       | 163/577 [00:05<00:14, 29.23it/s]C:\\Users\\ybrot\\AppData\\Local\\Temp\\ipykernel_19436\\3844740279.py:6: FutureWarning: The behavior of array concatenation with empty entries is deprecated. In a future version, this will no longer exclude empty items when determining the result dtype. To retain the old behavior, exclude the empty entries before the concat operation.\n",
      "  Canadian_discharge_values = pd.concat([Canadian_discharge_values, temp_data])\n",
      " 29%|██▉       | 167/577 [00:05<00:15, 25.84it/s]C:\\Users\\ybrot\\AppData\\Local\\Temp\\ipykernel_19436\\3844740279.py:6: FutureWarning: The behavior of array concatenation with empty entries is deprecated. In a future version, this will no longer exclude empty items when determining the result dtype. To retain the old behavior, exclude the empty entries before the concat operation.\n",
      "  Canadian_discharge_values = pd.concat([Canadian_discharge_values, temp_data])\n",
      "C:\\Users\\ybrot\\AppData\\Local\\Temp\\ipykernel_19436\\3844740279.py:6: FutureWarning: The behavior of array concatenation with empty entries is deprecated. In a future version, this will no longer exclude empty items when determining the result dtype. To retain the old behavior, exclude the empty entries before the concat operation.\n",
      "  Canadian_discharge_values = pd.concat([Canadian_discharge_values, temp_data])\n",
      "C:\\Users\\ybrot\\AppData\\Local\\Temp\\ipykernel_19436\\3844740279.py:6: FutureWarning: The behavior of array concatenation with empty entries is deprecated. In a future version, this will no longer exclude empty items when determining the result dtype. To retain the old behavior, exclude the empty entries before the concat operation.\n",
      "  Canadian_discharge_values = pd.concat([Canadian_discharge_values, temp_data])\n",
      " 33%|███▎      | 188/577 [00:06<00:14, 26.39it/s]C:\\Users\\ybrot\\AppData\\Local\\Temp\\ipykernel_19436\\3844740279.py:6: FutureWarning: The behavior of array concatenation with empty entries is deprecated. In a future version, this will no longer exclude empty items when determining the result dtype. To retain the old behavior, exclude the empty entries before the concat operation.\n",
      "  Canadian_discharge_values = pd.concat([Canadian_discharge_values, temp_data])\n",
      " 33%|███▎      | 191/577 [00:06<00:14, 26.48it/s]C:\\Users\\ybrot\\AppData\\Local\\Temp\\ipykernel_19436\\3844740279.py:6: FutureWarning: The behavior of array concatenation with empty entries is deprecated. In a future version, this will no longer exclude empty items when determining the result dtype. To retain the old behavior, exclude the empty entries before the concat operation.\n",
      "  Canadian_discharge_values = pd.concat([Canadian_discharge_values, temp_data])\n",
      " 38%|███▊      | 218/577 [00:07<00:18, 19.46it/s]C:\\Users\\ybrot\\AppData\\Local\\Temp\\ipykernel_19436\\3844740279.py:6: FutureWarning: The behavior of array concatenation with empty entries is deprecated. In a future version, this will no longer exclude empty items when determining the result dtype. To retain the old behavior, exclude the empty entries before the concat operation.\n",
      "  Canadian_discharge_values = pd.concat([Canadian_discharge_values, temp_data])\n",
      "C:\\Users\\ybrot\\AppData\\Local\\Temp\\ipykernel_19436\\3844740279.py:6: FutureWarning: The behavior of array concatenation with empty entries is deprecated. In a future version, this will no longer exclude empty items when determining the result dtype. To retain the old behavior, exclude the empty entries before the concat operation.\n",
      "  Canadian_discharge_values = pd.concat([Canadian_discharge_values, temp_data])\n",
      "C:\\Users\\ybrot\\AppData\\Local\\Temp\\ipykernel_19436\\3844740279.py:6: FutureWarning: The behavior of array concatenation with empty entries is deprecated. In a future version, this will no longer exclude empty items when determining the result dtype. To retain the old behavior, exclude the empty entries before the concat operation.\n",
      "  Canadian_discharge_values = pd.concat([Canadian_discharge_values, temp_data])\n",
      " 38%|███▊      | 222/577 [00:07<00:15, 22.99it/s]C:\\Users\\ybrot\\AppData\\Local\\Temp\\ipykernel_19436\\3844740279.py:6: FutureWarning: The behavior of array concatenation with empty entries is deprecated. In a future version, this will no longer exclude empty items when determining the result dtype. To retain the old behavior, exclude the empty entries before the concat operation.\n",
      "  Canadian_discharge_values = pd.concat([Canadian_discharge_values, temp_data])\n",
      "C:\\Users\\ybrot\\AppData\\Local\\Temp\\ipykernel_19436\\3844740279.py:6: FutureWarning: The behavior of array concatenation with empty entries is deprecated. In a future version, this will no longer exclude empty items when determining the result dtype. To retain the old behavior, exclude the empty entries before the concat operation.\n",
      "  Canadian_discharge_values = pd.concat([Canadian_discharge_values, temp_data])\n",
      " 39%|███▉      | 225/577 [00:07<00:14, 23.84it/s]C:\\Users\\ybrot\\AppData\\Local\\Temp\\ipykernel_19436\\3844740279.py:6: FutureWarning: The behavior of array concatenation with empty entries is deprecated. In a future version, this will no longer exclude empty items when determining the result dtype. To retain the old behavior, exclude the empty entries before the concat operation.\n",
      "  Canadian_discharge_values = pd.concat([Canadian_discharge_values, temp_data])\n",
      " 40%|████      | 231/577 [00:08<00:16, 20.51it/s]C:\\Users\\ybrot\\AppData\\Local\\Temp\\ipykernel_19436\\3844740279.py:6: FutureWarning: The behavior of array concatenation with empty entries is deprecated. In a future version, this will no longer exclude empty items when determining the result dtype. To retain the old behavior, exclude the empty entries before the concat operation.\n",
      "  Canadian_discharge_values = pd.concat([Canadian_discharge_values, temp_data])\n",
      " 41%|████      | 234/577 [00:08<00:16, 20.22it/s]C:\\Users\\ybrot\\AppData\\Local\\Temp\\ipykernel_19436\\3844740279.py:6: FutureWarning: The behavior of array concatenation with empty entries is deprecated. In a future version, this will no longer exclude empty items when determining the result dtype. To retain the old behavior, exclude the empty entries before the concat operation.\n",
      "  Canadian_discharge_values = pd.concat([Canadian_discharge_values, temp_data])\n",
      "C:\\Users\\ybrot\\AppData\\Local\\Temp\\ipykernel_19436\\3844740279.py:6: FutureWarning: The behavior of array concatenation with empty entries is deprecated. In a future version, this will no longer exclude empty items when determining the result dtype. To retain the old behavior, exclude the empty entries before the concat operation.\n",
      "  Canadian_discharge_values = pd.concat([Canadian_discharge_values, temp_data])\n",
      " 41%|████      | 237/577 [00:08<00:15, 21.81it/s]C:\\Users\\ybrot\\AppData\\Local\\Temp\\ipykernel_19436\\3844740279.py:6: FutureWarning: The behavior of array concatenation with empty entries is deprecated. In a future version, this will no longer exclude empty items when determining the result dtype. To retain the old behavior, exclude the empty entries before the concat operation.\n",
      "  Canadian_discharge_values = pd.concat([Canadian_discharge_values, temp_data])\n",
      " 43%|████▎     | 249/577 [00:09<00:15, 20.50it/s]C:\\Users\\ybrot\\AppData\\Local\\Temp\\ipykernel_19436\\3844740279.py:6: FutureWarning: The behavior of array concatenation with empty entries is deprecated. In a future version, this will no longer exclude empty items when determining the result dtype. To retain the old behavior, exclude the empty entries before the concat operation.\n",
      "  Canadian_discharge_values = pd.concat([Canadian_discharge_values, temp_data])\n",
      " 46%|████▌     | 264/577 [00:09<00:17, 17.79it/s]C:\\Users\\ybrot\\AppData\\Local\\Temp\\ipykernel_19436\\3844740279.py:6: FutureWarning: The behavior of array concatenation with empty entries is deprecated. In a future version, this will no longer exclude empty items when determining the result dtype. To retain the old behavior, exclude the empty entries before the concat operation.\n",
      "  Canadian_discharge_values = pd.concat([Canadian_discharge_values, temp_data])\n",
      " 46%|████▋     | 268/577 [00:10<00:14, 21.17it/s]C:\\Users\\ybrot\\AppData\\Local\\Temp\\ipykernel_19436\\3844740279.py:6: FutureWarning: The behavior of array concatenation with empty entries is deprecated. In a future version, this will no longer exclude empty items when determining the result dtype. To retain the old behavior, exclude the empty entries before the concat operation.\n",
      "  Canadian_discharge_values = pd.concat([Canadian_discharge_values, temp_data])\n",
      "C:\\Users\\ybrot\\AppData\\Local\\Temp\\ipykernel_19436\\3844740279.py:6: FutureWarning: The behavior of array concatenation with empty entries is deprecated. In a future version, this will no longer exclude empty items when determining the result dtype. To retain the old behavior, exclude the empty entries before the concat operation.\n",
      "  Canadian_discharge_values = pd.concat([Canadian_discharge_values, temp_data])\n",
      " 47%|████▋     | 271/577 [00:10<00:14, 21.84it/s]C:\\Users\\ybrot\\AppData\\Local\\Temp\\ipykernel_19436\\3844740279.py:6: FutureWarning: The behavior of array concatenation with empty entries is deprecated. In a future version, this will no longer exclude empty items when determining the result dtype. To retain the old behavior, exclude the empty entries before the concat operation.\n",
      "  Canadian_discharge_values = pd.concat([Canadian_discharge_values, temp_data])\n",
      " 49%|████▊     | 280/577 [00:10<00:13, 21.24it/s]C:\\Users\\ybrot\\AppData\\Local\\Temp\\ipykernel_19436\\3844740279.py:6: FutureWarning: The behavior of array concatenation with empty entries is deprecated. In a future version, this will no longer exclude empty items when determining the result dtype. To retain the old behavior, exclude the empty entries before the concat operation.\n",
      "  Canadian_discharge_values = pd.concat([Canadian_discharge_values, temp_data])\n",
      "C:\\Users\\ybrot\\AppData\\Local\\Temp\\ipykernel_19436\\3844740279.py:6: FutureWarning: The behavior of array concatenation with empty entries is deprecated. In a future version, this will no longer exclude empty items when determining the result dtype. To retain the old behavior, exclude the empty entries before the concat operation.\n",
      "  Canadian_discharge_values = pd.concat([Canadian_discharge_values, temp_data])\n",
      " 49%|████▉     | 284/577 [00:10<00:12, 22.68it/s]C:\\Users\\ybrot\\AppData\\Local\\Temp\\ipykernel_19436\\3844740279.py:6: FutureWarning: The behavior of array concatenation with empty entries is deprecated. In a future version, this will no longer exclude empty items when determining the result dtype. To retain the old behavior, exclude the empty entries before the concat operation.\n",
      "  Canadian_discharge_values = pd.concat([Canadian_discharge_values, temp_data])\n",
      " 50%|████▉     | 287/577 [00:10<00:13, 21.61it/s]C:\\Users\\ybrot\\AppData\\Local\\Temp\\ipykernel_19436\\3844740279.py:6: FutureWarning: The behavior of array concatenation with empty entries is deprecated. In a future version, this will no longer exclude empty items when determining the result dtype. To retain the old behavior, exclude the empty entries before the concat operation.\n",
      "  Canadian_discharge_values = pd.concat([Canadian_discharge_values, temp_data])\n",
      "C:\\Users\\ybrot\\AppData\\Local\\Temp\\ipykernel_19436\\3844740279.py:6: FutureWarning: The behavior of array concatenation with empty entries is deprecated. In a future version, this will no longer exclude empty items when determining the result dtype. To retain the old behavior, exclude the empty entries before the concat operation.\n",
      "  Canadian_discharge_values = pd.concat([Canadian_discharge_values, temp_data])\n",
      "C:\\Users\\ybrot\\AppData\\Local\\Temp\\ipykernel_19436\\3844740279.py:6: FutureWarning: The behavior of array concatenation with empty entries is deprecated. In a future version, this will no longer exclude empty items when determining the result dtype. To retain the old behavior, exclude the empty entries before the concat operation.\n",
      "  Canadian_discharge_values = pd.concat([Canadian_discharge_values, temp_data])\n",
      " 50%|█████     | 291/577 [00:11<00:12, 23.00it/s]C:\\Users\\ybrot\\AppData\\Local\\Temp\\ipykernel_19436\\3844740279.py:6: FutureWarning: The behavior of array concatenation with empty entries is deprecated. In a future version, this will no longer exclude empty items when determining the result dtype. To retain the old behavior, exclude the empty entries before the concat operation.\n",
      "  Canadian_discharge_values = pd.concat([Canadian_discharge_values, temp_data])\n",
      "C:\\Users\\ybrot\\AppData\\Local\\Temp\\ipykernel_19436\\3844740279.py:6: FutureWarning: The behavior of array concatenation with empty entries is deprecated. In a future version, this will no longer exclude empty items when determining the result dtype. To retain the old behavior, exclude the empty entries before the concat operation.\n",
      "  Canadian_discharge_values = pd.concat([Canadian_discharge_values, temp_data])\n",
      "C:\\Users\\ybrot\\AppData\\Local\\Temp\\ipykernel_19436\\3844740279.py:6: FutureWarning: The behavior of array concatenation with empty entries is deprecated. In a future version, this will no longer exclude empty items when determining the result dtype. To retain the old behavior, exclude the empty entries before the concat operation.\n",
      "  Canadian_discharge_values = pd.concat([Canadian_discharge_values, temp_data])\n",
      " 51%|█████     | 295/577 [00:11<00:11, 24.30it/s]C:\\Users\\ybrot\\AppData\\Local\\Temp\\ipykernel_19436\\3844740279.py:6: FutureWarning: The behavior of array concatenation with empty entries is deprecated. In a future version, this will no longer exclude empty items when determining the result dtype. To retain the old behavior, exclude the empty entries before the concat operation.\n",
      "  Canadian_discharge_values = pd.concat([Canadian_discharge_values, temp_data])\n",
      " 52%|█████▏    | 298/577 [00:11<00:12, 22.26it/s]C:\\Users\\ybrot\\AppData\\Local\\Temp\\ipykernel_19436\\3844740279.py:6: FutureWarning: The behavior of array concatenation with empty entries is deprecated. In a future version, this will no longer exclude empty items when determining the result dtype. To retain the old behavior, exclude the empty entries before the concat operation.\n",
      "  Canadian_discharge_values = pd.concat([Canadian_discharge_values, temp_data])\n",
      "C:\\Users\\ybrot\\AppData\\Local\\Temp\\ipykernel_19436\\3844740279.py:6: FutureWarning: The behavior of array concatenation with empty entries is deprecated. In a future version, this will no longer exclude empty items when determining the result dtype. To retain the old behavior, exclude the empty entries before the concat operation.\n",
      "  Canadian_discharge_values = pd.concat([Canadian_discharge_values, temp_data])\n",
      " 52%|█████▏    | 301/577 [00:11<00:12, 22.33it/s]C:\\Users\\ybrot\\AppData\\Local\\Temp\\ipykernel_19436\\3844740279.py:6: FutureWarning: The behavior of array concatenation with empty entries is deprecated. In a future version, this will no longer exclude empty items when determining the result dtype. To retain the old behavior, exclude the empty entries before the concat operation.\n",
      "  Canadian_discharge_values = pd.concat([Canadian_discharge_values, temp_data])\n",
      " 56%|█████▋    | 325/577 [00:12<00:13, 18.53it/s]C:\\Users\\ybrot\\AppData\\Local\\Temp\\ipykernel_19436\\3844740279.py:6: FutureWarning: The behavior of array concatenation with empty entries is deprecated. In a future version, this will no longer exclude empty items when determining the result dtype. To retain the old behavior, exclude the empty entries before the concat operation.\n",
      "  Canadian_discharge_values = pd.concat([Canadian_discharge_values, temp_data])\n",
      "C:\\Users\\ybrot\\AppData\\Local\\Temp\\ipykernel_19436\\3844740279.py:6: FutureWarning: The behavior of array concatenation with empty entries is deprecated. In a future version, this will no longer exclude empty items when determining the result dtype. To retain the old behavior, exclude the empty entries before the concat operation.\n",
      "  Canadian_discharge_values = pd.concat([Canadian_discharge_values, temp_data])\n",
      "C:\\Users\\ybrot\\AppData\\Local\\Temp\\ipykernel_19436\\3844740279.py:6: FutureWarning: The behavior of array concatenation with empty entries is deprecated. In a future version, this will no longer exclude empty items when determining the result dtype. To retain the old behavior, exclude the empty entries before the concat operation.\n",
      "  Canadian_discharge_values = pd.concat([Canadian_discharge_values, temp_data])\n",
      "C:\\Users\\ybrot\\AppData\\Local\\Temp\\ipykernel_19436\\3844740279.py:6: FutureWarning: The behavior of array concatenation with empty entries is deprecated. In a future version, this will no longer exclude empty items when determining the result dtype. To retain the old behavior, exclude the empty entries before the concat operation.\n",
      "  Canadian_discharge_values = pd.concat([Canadian_discharge_values, temp_data])\n",
      " 58%|█████▊    | 332/577 [00:13<00:12, 19.87it/s]C:\\Users\\ybrot\\AppData\\Local\\Temp\\ipykernel_19436\\3844740279.py:6: FutureWarning: The behavior of array concatenation with empty entries is deprecated. In a future version, this will no longer exclude empty items when determining the result dtype. To retain the old behavior, exclude the empty entries before the concat operation.\n",
      "  Canadian_discharge_values = pd.concat([Canadian_discharge_values, temp_data])\n",
      " 58%|█████▊    | 335/577 [00:13<00:11, 20.40it/s]C:\\Users\\ybrot\\AppData\\Local\\Temp\\ipykernel_19436\\3844740279.py:6: FutureWarning: The behavior of array concatenation with empty entries is deprecated. In a future version, this will no longer exclude empty items when determining the result dtype. To retain the old behavior, exclude the empty entries before the concat operation.\n",
      "  Canadian_discharge_values = pd.concat([Canadian_discharge_values, temp_data])\n",
      "C:\\Users\\ybrot\\AppData\\Local\\Temp\\ipykernel_19436\\3844740279.py:6: FutureWarning: The behavior of array concatenation with empty entries is deprecated. In a future version, this will no longer exclude empty items when determining the result dtype. To retain the old behavior, exclude the empty entries before the concat operation.\n",
      "  Canadian_discharge_values = pd.concat([Canadian_discharge_values, temp_data])\n",
      " 59%|█████▊    | 338/577 [00:13<00:11, 21.60it/s]C:\\Users\\ybrot\\AppData\\Local\\Temp\\ipykernel_19436\\3844740279.py:6: FutureWarning: The behavior of array concatenation with empty entries is deprecated. In a future version, this will no longer exclude empty items when determining the result dtype. To retain the old behavior, exclude the empty entries before the concat operation.\n",
      "  Canadian_discharge_values = pd.concat([Canadian_discharge_values, temp_data])\n",
      " 59%|█████▉    | 341/577 [00:13<00:11, 20.31it/s]C:\\Users\\ybrot\\AppData\\Local\\Temp\\ipykernel_19436\\3844740279.py:6: FutureWarning: The behavior of array concatenation with empty entries is deprecated. In a future version, this will no longer exclude empty items when determining the result dtype. To retain the old behavior, exclude the empty entries before the concat operation.\n",
      "  Canadian_discharge_values = pd.concat([Canadian_discharge_values, temp_data])\n",
      " 60%|██████    | 348/577 [00:14<00:12, 17.80it/s]C:\\Users\\ybrot\\AppData\\Local\\Temp\\ipykernel_19436\\3844740279.py:6: FutureWarning: The behavior of array concatenation with empty entries is deprecated. In a future version, this will no longer exclude empty items when determining the result dtype. To retain the old behavior, exclude the empty entries before the concat operation.\n",
      "  Canadian_discharge_values = pd.concat([Canadian_discharge_values, temp_data])\n",
      " 61%|██████    | 353/577 [00:14<00:14, 15.86it/s]C:\\Users\\ybrot\\AppData\\Local\\Temp\\ipykernel_19436\\3844740279.py:6: FutureWarning: The behavior of array concatenation with empty entries is deprecated. In a future version, this will no longer exclude empty items when determining the result dtype. To retain the old behavior, exclude the empty entries before the concat operation.\n",
      "  Canadian_discharge_values = pd.concat([Canadian_discharge_values, temp_data])\n",
      " 62%|██████▏   | 355/577 [00:14<00:13, 16.36it/s]C:\\Users\\ybrot\\AppData\\Local\\Temp\\ipykernel_19436\\3844740279.py:6: FutureWarning: The behavior of array concatenation with empty entries is deprecated. In a future version, this will no longer exclude empty items when determining the result dtype. To retain the old behavior, exclude the empty entries before the concat operation.\n",
      "  Canadian_discharge_values = pd.concat([Canadian_discharge_values, temp_data])\n",
      "C:\\Users\\ybrot\\AppData\\Local\\Temp\\ipykernel_19436\\3844740279.py:6: FutureWarning: The behavior of array concatenation with empty entries is deprecated. In a future version, this will no longer exclude empty items when determining the result dtype. To retain the old behavior, exclude the empty entries before the concat operation.\n",
      "  Canadian_discharge_values = pd.concat([Canadian_discharge_values, temp_data])\n",
      " 64%|██████▍   | 370/577 [00:15<00:11, 17.61it/s]C:\\Users\\ybrot\\AppData\\Local\\Temp\\ipykernel_19436\\3844740279.py:6: FutureWarning: The behavior of array concatenation with empty entries is deprecated. In a future version, this will no longer exclude empty items when determining the result dtype. To retain the old behavior, exclude the empty entries before the concat operation.\n",
      "  Canadian_discharge_values = pd.concat([Canadian_discharge_values, temp_data])\n",
      " 64%|██████▍   | 372/577 [00:15<00:11, 17.98it/s]C:\\Users\\ybrot\\AppData\\Local\\Temp\\ipykernel_19436\\3844740279.py:6: FutureWarning: The behavior of array concatenation with empty entries is deprecated. In a future version, this will no longer exclude empty items when determining the result dtype. To retain the old behavior, exclude the empty entries before the concat operation.\n",
      "  Canadian_discharge_values = pd.concat([Canadian_discharge_values, temp_data])\n",
      " 68%|██████▊   | 391/577 [00:16<00:11, 16.71it/s]C:\\Users\\ybrot\\AppData\\Local\\Temp\\ipykernel_19436\\3844740279.py:6: FutureWarning: The behavior of array concatenation with empty entries is deprecated. In a future version, this will no longer exclude empty items when determining the result dtype. To retain the old behavior, exclude the empty entries before the concat operation.\n",
      "  Canadian_discharge_values = pd.concat([Canadian_discharge_values, temp_data])\n",
      " 75%|███████▍  | 431/577 [00:19<00:08, 17.38it/s]C:\\Users\\ybrot\\AppData\\Local\\Temp\\ipykernel_19436\\3844740279.py:6: FutureWarning: The behavior of array concatenation with empty entries is deprecated. In a future version, this will no longer exclude empty items when determining the result dtype. To retain the old behavior, exclude the empty entries before the concat operation.\n",
      "  Canadian_discharge_values = pd.concat([Canadian_discharge_values, temp_data])\n",
      " 79%|███████▉  | 457/577 [00:21<00:07, 15.33it/s]C:\\Users\\ybrot\\AppData\\Local\\Temp\\ipykernel_19436\\3844740279.py:6: FutureWarning: The behavior of array concatenation with empty entries is deprecated. In a future version, this will no longer exclude empty items when determining the result dtype. To retain the old behavior, exclude the empty entries before the concat operation.\n",
      "  Canadian_discharge_values = pd.concat([Canadian_discharge_values, temp_data])\n",
      " 80%|███████▉  | 460/577 [00:21<00:07, 16.51it/s]C:\\Users\\ybrot\\AppData\\Local\\Temp\\ipykernel_19436\\3844740279.py:6: FutureWarning: The behavior of array concatenation with empty entries is deprecated. In a future version, this will no longer exclude empty items when determining the result dtype. To retain the old behavior, exclude the empty entries before the concat operation.\n",
      "  Canadian_discharge_values = pd.concat([Canadian_discharge_values, temp_data])\n",
      " 80%|████████  | 462/577 [00:21<00:07, 16.38it/s]C:\\Users\\ybrot\\AppData\\Local\\Temp\\ipykernel_19436\\3844740279.py:6: FutureWarning: The behavior of array concatenation with empty entries is deprecated. In a future version, this will no longer exclude empty items when determining the result dtype. To retain the old behavior, exclude the empty entries before the concat operation.\n",
      "  Canadian_discharge_values = pd.concat([Canadian_discharge_values, temp_data])\n",
      "C:\\Users\\ybrot\\AppData\\Local\\Temp\\ipykernel_19436\\3844740279.py:6: FutureWarning: The behavior of array concatenation with empty entries is deprecated. In a future version, this will no longer exclude empty items when determining the result dtype. To retain the old behavior, exclude the empty entries before the concat operation.\n",
      "  Canadian_discharge_values = pd.concat([Canadian_discharge_values, temp_data])\n",
      " 81%|████████  | 465/577 [00:21<00:06, 18.13it/s]C:\\Users\\ybrot\\AppData\\Local\\Temp\\ipykernel_19436\\3844740279.py:6: FutureWarning: The behavior of array concatenation with empty entries is deprecated. In a future version, this will no longer exclude empty items when determining the result dtype. To retain the old behavior, exclude the empty entries before the concat operation.\n",
      "  Canadian_discharge_values = pd.concat([Canadian_discharge_values, temp_data])\n",
      " 81%|████████  | 467/577 [00:21<00:06, 17.32it/s]C:\\Users\\ybrot\\AppData\\Local\\Temp\\ipykernel_19436\\3844740279.py:6: FutureWarning: The behavior of array concatenation with empty entries is deprecated. In a future version, this will no longer exclude empty items when determining the result dtype. To retain the old behavior, exclude the empty entries before the concat operation.\n",
      "  Canadian_discharge_values = pd.concat([Canadian_discharge_values, temp_data])\n",
      " 81%|████████▏ | 470/577 [00:21<00:05, 18.32it/s]C:\\Users\\ybrot\\AppData\\Local\\Temp\\ipykernel_19436\\3844740279.py:6: FutureWarning: The behavior of array concatenation with empty entries is deprecated. In a future version, this will no longer exclude empty items when determining the result dtype. To retain the old behavior, exclude the empty entries before the concat operation.\n",
      "  Canadian_discharge_values = pd.concat([Canadian_discharge_values, temp_data])\n",
      "C:\\Users\\ybrot\\AppData\\Local\\Temp\\ipykernel_19436\\3844740279.py:6: FutureWarning: The behavior of array concatenation with empty entries is deprecated. In a future version, this will no longer exclude empty items when determining the result dtype. To retain the old behavior, exclude the empty entries before the concat operation.\n",
      "  Canadian_discharge_values = pd.concat([Canadian_discharge_values, temp_data])\n",
      " 84%|████████▍ | 487/577 [00:22<00:04, 20.12it/s]C:\\Users\\ybrot\\AppData\\Local\\Temp\\ipykernel_19436\\3844740279.py:6: FutureWarning: The behavior of array concatenation with empty entries is deprecated. In a future version, this will no longer exclude empty items when determining the result dtype. To retain the old behavior, exclude the empty entries before the concat operation.\n",
      "  Canadian_discharge_values = pd.concat([Canadian_discharge_values, temp_data])\n",
      "C:\\Users\\ybrot\\AppData\\Local\\Temp\\ipykernel_19436\\3844740279.py:6: FutureWarning: The behavior of array concatenation with empty entries is deprecated. In a future version, this will no longer exclude empty items when determining the result dtype. To retain the old behavior, exclude the empty entries before the concat operation.\n",
      "  Canadian_discharge_values = pd.concat([Canadian_discharge_values, temp_data])\n",
      " 85%|████████▌ | 491/577 [00:22<00:03, 23.91it/s]C:\\Users\\ybrot\\AppData\\Local\\Temp\\ipykernel_19436\\3844740279.py:6: FutureWarning: The behavior of array concatenation with empty entries is deprecated. In a future version, this will no longer exclude empty items when determining the result dtype. To retain the old behavior, exclude the empty entries before the concat operation.\n",
      "  Canadian_discharge_values = pd.concat([Canadian_discharge_values, temp_data])\n",
      " 86%|████████▌ | 494/577 [00:22<00:03, 25.06it/s]C:\\Users\\ybrot\\AppData\\Local\\Temp\\ipykernel_19436\\3844740279.py:6: FutureWarning: The behavior of array concatenation with empty entries is deprecated. In a future version, this will no longer exclude empty items when determining the result dtype. To retain the old behavior, exclude the empty entries before the concat operation.\n",
      "  Canadian_discharge_values = pd.concat([Canadian_discharge_values, temp_data])\n",
      "C:\\Users\\ybrot\\AppData\\Local\\Temp\\ipykernel_19436\\3844740279.py:6: FutureWarning: The behavior of array concatenation with empty entries is deprecated. In a future version, this will no longer exclude empty items when determining the result dtype. To retain the old behavior, exclude the empty entries before the concat operation.\n",
      "  Canadian_discharge_values = pd.concat([Canadian_discharge_values, temp_data])\n",
      " 86%|████████▋ | 498/577 [00:22<00:02, 28.14it/s]C:\\Users\\ybrot\\AppData\\Local\\Temp\\ipykernel_19436\\3844740279.py:6: FutureWarning: The behavior of array concatenation with empty entries is deprecated. In a future version, this will no longer exclude empty items when determining the result dtype. To retain the old behavior, exclude the empty entries before the concat operation.\n",
      "  Canadian_discharge_values = pd.concat([Canadian_discharge_values, temp_data])\n",
      "C:\\Users\\ybrot\\AppData\\Local\\Temp\\ipykernel_19436\\3844740279.py:6: FutureWarning: The behavior of array concatenation with empty entries is deprecated. In a future version, this will no longer exclude empty items when determining the result dtype. To retain the old behavior, exclude the empty entries before the concat operation.\n",
      "  Canadian_discharge_values = pd.concat([Canadian_discharge_values, temp_data])\n",
      " 90%|████████▉ | 519/577 [00:23<00:02, 23.92it/s]C:\\Users\\ybrot\\AppData\\Local\\Temp\\ipykernel_19436\\3844740279.py:6: FutureWarning: The behavior of array concatenation with empty entries is deprecated. In a future version, this will no longer exclude empty items when determining the result dtype. To retain the old behavior, exclude the empty entries before the concat operation.\n",
      "  Canadian_discharge_values = pd.concat([Canadian_discharge_values, temp_data])\n",
      " 97%|█████████▋| 561/577 [00:25<00:00, 20.30it/s]C:\\Users\\ybrot\\AppData\\Local\\Temp\\ipykernel_19436\\3844740279.py:6: FutureWarning: The behavior of array concatenation with empty entries is deprecated. In a future version, this will no longer exclude empty items when determining the result dtype. To retain the old behavior, exclude the empty entries before the concat operation.\n",
      "  Canadian_discharge_values = pd.concat([Canadian_discharge_values, temp_data])\n",
      "C:\\Users\\ybrot\\AppData\\Local\\Temp\\ipykernel_19436\\3844740279.py:6: FutureWarning: The behavior of array concatenation with empty entries is deprecated. In a future version, this will no longer exclude empty items when determining the result dtype. To retain the old behavior, exclude the empty entries before the concat operation.\n",
      "  Canadian_discharge_values = pd.concat([Canadian_discharge_values, temp_data])\n",
      "C:\\Users\\ybrot\\AppData\\Local\\Temp\\ipykernel_19436\\3844740279.py:6: FutureWarning: The behavior of array concatenation with empty entries is deprecated. In a future version, this will no longer exclude empty items when determining the result dtype. To retain the old behavior, exclude the empty entries before the concat operation.\n",
      "  Canadian_discharge_values = pd.concat([Canadian_discharge_values, temp_data])\n",
      "C:\\Users\\ybrot\\AppData\\Local\\Temp\\ipykernel_19436\\3844740279.py:6: FutureWarning: The behavior of array concatenation with empty entries is deprecated. In a future version, this will no longer exclude empty items when determining the result dtype. To retain the old behavior, exclude the empty entries before the concat operation.\n",
      "  Canadian_discharge_values = pd.concat([Canadian_discharge_values, temp_data])\n",
      " 98%|█████████▊| 565/577 [00:26<00:00, 23.24it/s]C:\\Users\\ybrot\\AppData\\Local\\Temp\\ipykernel_19436\\3844740279.py:6: FutureWarning: The behavior of array concatenation with empty entries is deprecated. In a future version, this will no longer exclude empty items when determining the result dtype. To retain the old behavior, exclude the empty entries before the concat operation.\n",
      "  Canadian_discharge_values = pd.concat([Canadian_discharge_values, temp_data])\n",
      "100%|██████████| 577/577 [00:26<00:00, 21.64it/s]\n"
     ]
    }
   ],
   "source": [
    "Canadian_discharge_values: pd.Series = pd.Series()\n",
    "\n",
    "for file_name in tqdm(Canadian_file_names):\n",
    "    temp_data: pd.Series = get_column_values(Canadian_folder_path + '/' + file_name)\n",
    "    \n",
    "    Canadian_discharge_values = pd.concat([Canadian_discharge_values, temp_data])"
   ]
  },
  {
   "cell_type": "code",
   "execution_count": 13,
   "metadata": {},
   "outputs": [
    {
     "data": {
      "text/plain": [
       "count    4.473397e+06\n",
       "mean     1.153141e+01\n",
       "std      3.228405e+01\n",
       "min     -8.000000e+00\n",
       "25%      4.410000e-01\n",
       "50%      1.660000e+00\n",
       "75%      7.280000e+00\n",
       "max      1.310000e+03\n",
       "dtype: float64"
      ]
     },
     "execution_count": 13,
     "metadata": {},
     "output_type": "execute_result"
    }
   ],
   "source": [
    "Canadian_discharge_summary_stats = Canadian_discharge_values.describe()\n",
    "Canadian_discharge_summary_stats"
   ]
  },
  {
   "cell_type": "code",
   "execution_count": 14,
   "metadata": {},
   "outputs": [
    {
     "data": {
      "image/png": "[encoded data removed]",
      "text/plain": [
       "<Figure size 640x480 with 1 Axes>"
      ]
     },
     "metadata": {},
     "output_type": "display_data"
    }
   ],
   "source": [
    "# Plot the discharge coverage\n",
    "import seaborn as sns\n",
    "\n",
    "sns.histplot(Canadian_discharge_values, bins=30, kde=True)\n",
    "plt.xlabel('Value')\n",
    "plt.ylabel('Frequency')\n",
    "plt.title('Distribution of Series')\n",
    "plt.show()"
   ]
  }
 ],
 "metadata": {
  "kernelspec": {
   "display_name": "Python 3",
   "language": "python",
   "name": "python3"
  },
  "language_info": {
   "codemirror_mode": {
    "name": "ipython",
    "version": 3
   },
   "file_extension": ".py",
   "mimetype": "text/x-python",
   "name": "python",
   "nbconvert_exporter": "python",
   "pygments_lexer": "ipython3",
   "version": "3.12.3"
  }
 },
 "nbformat": 4,
 "nbformat_minor": 2
}
